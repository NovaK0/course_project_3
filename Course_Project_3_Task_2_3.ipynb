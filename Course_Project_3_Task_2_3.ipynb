{
  "cells": [
    {
      "cell_type": "code",
      "execution_count": 489,
      "metadata": {
        "id": "404b599d"
      },
      "outputs": [],
      "source": [
        "#Importing important libraries\n",
        "import pandas as pd\n",
        "import numpy as np\n",
        "import matplotlib.pyplot as plt\n",
        "import seaborn as sns\n",
        "from sklearn.preprocessing import StandardScaler\n",
        "from sklearn.model_selection import train_test_split\n",
        "from sklearn.preprocessing import LabelEncoder\n",
        "from sklearn.metrics import mean_squared_error\n",
        "import matplotlib.ticker as ticker\n",
        "import matplotlib.ticker as plticker\n",
        "from sklearn.ensemble import RandomForestClassifier\n",
        "from sklearn.datasets import make_classification\n",
        "from sklearn.linear_model import SGDClassifier\n",
        "from sklearn.metrics import accuracy_score\n",
        "import tensorflow as tf\n",
        "from tensorflow.keras.layers import Input, Dense\n",
        "from tensorflow.keras.models import Model\n"
      ],
      "id": "404b599d"
    },
    {
      "cell_type": "code",
      "source": [
        "#Task 3"
      ],
      "metadata": {
        "id": "lGB6W9Z-S92W"
      },
      "id": "lGB6W9Z-S92W",
      "execution_count": null,
      "outputs": []
    },
    {
      "cell_type": "markdown",
      "source": [
        "Task 3 predicting teams for finals"
      ],
      "metadata": {
        "id": "13lDrpJLS_0w"
      },
      "id": "13lDrpJLS_0w"
    },
    {
      "cell_type": "code",
      "execution_count": 460,
      "metadata": {
        "id": "9dbhQJqRCldA"
      },
      "outputs": [],
      "source": [
        "#General function to fetch odi data\n",
        "#The data extracted is about 4 teams only because they have qualified for Semis\n",
        "def teams(url):\n",
        "  teamss = ['India','South Africa','New Zealand','Australia']\n",
        "  all_table = pd.read_html(url)\n",
        "  df =all_table[0]\n",
        "  filtered_df = df[df['Team 1'].isin(teamss) & df['Team 2'].isin(teamss)]\n",
        "  return filtered_df"
      ],
      "id": "9dbhQJqRCldA"
    },
    {
      "cell_type": "markdown",
      "source": [
        "Extracting Odi data yearwise (website used: ESPNcrickinfo)"
      ],
      "metadata": {
        "id": "sEFIceGfF97c"
      },
      "id": "sEFIceGfF97c"
    },
    {
      "cell_type": "code",
      "execution_count": 461,
      "metadata": {
        "id": "G_rQp1UMEyTp"
      },
      "outputs": [],
      "source": [
        "odi2015 = teams(\"https://www.espncricinfo.com/records/year/team-match-results/2015-2015/one-day-internationals-2\")"
      ],
      "id": "G_rQp1UMEyTp"
    },
    {
      "cell_type": "code",
      "execution_count": 462,
      "metadata": {
        "id": "Ax81e_ryE3pC"
      },
      "outputs": [],
      "source": [
        "odi2016 = teams(\"https://www.espncricinfo.com/records/year/team-match-results/2016-2016/one-day-internationals-2\")"
      ],
      "id": "Ax81e_ryE3pC"
    },
    {
      "cell_type": "code",
      "execution_count": 463,
      "metadata": {
        "id": "3hVc_jg-E8u8"
      },
      "outputs": [],
      "source": [
        "odi2017 = teams(\"https://www.espncricinfo.com/records/year/team-match-results/2017-2017/one-day-internationals-2\")"
      ],
      "id": "3hVc_jg-E8u8"
    },
    {
      "cell_type": "code",
      "execution_count": 464,
      "metadata": {
        "id": "Dm6hrZ0-FBfI"
      },
      "outputs": [],
      "source": [
        "odi2018 = teams(\"https://www.espncricinfo.com/records/year/team-match-results/2018-2018/one-day-internationals-2\")"
      ],
      "id": "Dm6hrZ0-FBfI"
    },
    {
      "cell_type": "code",
      "execution_count": 465,
      "metadata": {
        "id": "gZyzQF8DDEBH"
      },
      "outputs": [],
      "source": [
        "odi2019 = teams(\"https://www.espncricinfo.com/records/year/team-match-results/2019-2019/one-day-internationals-2\")"
      ],
      "id": "gZyzQF8DDEBH"
    },
    {
      "cell_type": "code",
      "execution_count": 466,
      "metadata": {
        "id": "FSjzLRzZDqPw"
      },
      "outputs": [],
      "source": [
        "odi2020 = teams(\"https://www.espncricinfo.com/records/year/team-match-results/2020-2020/one-day-internationals-2\")"
      ],
      "id": "FSjzLRzZDqPw"
    },
    {
      "cell_type": "code",
      "execution_count": 467,
      "metadata": {
        "id": "IfMBct7KEQNI"
      },
      "outputs": [],
      "source": [
        "odi2021 = teams(\"https://www.espncricinfo.com/records/year/team-match-results/2021-2021/one-day-internationals-2\")"
      ],
      "id": "IfMBct7KEQNI"
    },
    {
      "cell_type": "code",
      "execution_count": 468,
      "metadata": {
        "id": "4UcuwyxZEe8Z"
      },
      "outputs": [],
      "source": [
        "odi2022 = teams(\"https://www.espncricinfo.com/records/year/team-match-results/2022-2022/one-day-internationals-2\")"
      ],
      "id": "4UcuwyxZEe8Z"
    },
    {
      "cell_type": "code",
      "execution_count": 469,
      "metadata": {
        "id": "uE5QTGZqEna4"
      },
      "outputs": [],
      "source": [
        "odi2023 = teams(\"https://www.espncricinfo.com/records/year/team-match-results/2023-2023/one-day-internationals-2\")"
      ],
      "id": "uE5QTGZqEna4"
    },
    {
      "cell_type": "code",
      "execution_count": 470,
      "metadata": {
        "id": "1svmbgKuEshz"
      },
      "outputs": [],
      "source": [
        "odi_data_all = pd.concat([odi2015, odi2016, odi2017, odi2018, odi2019, odi2020, odi2021, odi2022, odi2023], ignore_index=True)"
      ],
      "id": "1svmbgKuEshz"
    },
    {
      "cell_type": "code",
      "source": [
        "odi_data = odi_data_all.copy()"
      ],
      "metadata": {
        "id": "ziu1Vv0Vq2ud"
      },
      "id": "ziu1Vv0Vq2ud",
      "execution_count": 471,
      "outputs": []
    },
    {
      "cell_type": "code",
      "source": [
        "odi_data_all.to_csv(\"odi_data.csv\")"
      ],
      "metadata": {
        "id": "dSLHKELaVnvg"
      },
      "id": "dSLHKELaVnvg",
      "execution_count": 472,
      "outputs": []
    },
    {
      "cell_type": "code",
      "execution_count": 473,
      "metadata": {
        "colab": {
          "base_uri": "https://localhost:8080/"
        },
        "id": "8akrPMKfGSQo",
        "outputId": "732af8c7-ce0f-450e-cda2-6f273d96b179"
      },
      "outputs": [
        {
          "output_type": "execute_result",
          "data": {
            "text/plain": [
              "(129, 7)"
            ]
          },
          "metadata": {},
          "execution_count": 473
        }
      ],
      "source": [
        "odi_data.shape"
      ],
      "id": "8akrPMKfGSQo"
    },
    {
      "cell_type": "code",
      "execution_count": 490,
      "metadata": {
        "colab": {
          "base_uri": "https://localhost:8080/",
          "height": 206
        },
        "id": "MBxbUHgxGUIu",
        "outputId": "766f14a2-d7a2-4216-a1ae-6e6d5333c1d6"
      },
      "outputs": [
        {
          "output_type": "execute_result",
          "data": {
            "text/plain": [
              "        Team_A        Team_B       Winner     Margin     Ground Match Date  \\\n",
              "0    Australia         India    Australia  4 wickets  Melbourne 2015-01-18   \n",
              "1    Australia         India    no result          -     Sydney 2015-01-26   \n",
              "2        India  South Africa        India   130 runs  Melbourne 2015-02-22   \n",
              "3  New Zealand     Australia  New Zealand   1 wicket   Auckland 2015-02-28   \n",
              "4  New Zealand  South Africa  New Zealand  4 wickets   Auckland 2015-03-24   \n",
              "\n",
              "    Scorecard  Year  \n",
              "0  ODI # 3582  2015  \n",
              "1  ODI # 3592  2015  \n",
              "2  ODI # 3610  2015  \n",
              "3  ODI # 3617  2015  \n",
              "4  ODI # 3644  2015  "
            ],
            "text/html": [
              "\n",
              "  <div id=\"df-358afc56-0918-4721-ab8b-9c68a56603ce\" class=\"colab-df-container\">\n",
              "    <div>\n",
              "<style scoped>\n",
              "    .dataframe tbody tr th:only-of-type {\n",
              "        vertical-align: middle;\n",
              "    }\n",
              "\n",
              "    .dataframe tbody tr th {\n",
              "        vertical-align: top;\n",
              "    }\n",
              "\n",
              "    .dataframe thead th {\n",
              "        text-align: right;\n",
              "    }\n",
              "</style>\n",
              "<table border=\"1\" class=\"dataframe\">\n",
              "  <thead>\n",
              "    <tr style=\"text-align: right;\">\n",
              "      <th></th>\n",
              "      <th>Team_A</th>\n",
              "      <th>Team_B</th>\n",
              "      <th>Winner</th>\n",
              "      <th>Margin</th>\n",
              "      <th>Ground</th>\n",
              "      <th>Match Date</th>\n",
              "      <th>Scorecard</th>\n",
              "      <th>Year</th>\n",
              "    </tr>\n",
              "  </thead>\n",
              "  <tbody>\n",
              "    <tr>\n",
              "      <th>0</th>\n",
              "      <td>Australia</td>\n",
              "      <td>India</td>\n",
              "      <td>Australia</td>\n",
              "      <td>4 wickets</td>\n",
              "      <td>Melbourne</td>\n",
              "      <td>2015-01-18</td>\n",
              "      <td>ODI # 3582</td>\n",
              "      <td>2015</td>\n",
              "    </tr>\n",
              "    <tr>\n",
              "      <th>1</th>\n",
              "      <td>Australia</td>\n",
              "      <td>India</td>\n",
              "      <td>no result</td>\n",
              "      <td>-</td>\n",
              "      <td>Sydney</td>\n",
              "      <td>2015-01-26</td>\n",
              "      <td>ODI # 3592</td>\n",
              "      <td>2015</td>\n",
              "    </tr>\n",
              "    <tr>\n",
              "      <th>2</th>\n",
              "      <td>India</td>\n",
              "      <td>South Africa</td>\n",
              "      <td>India</td>\n",
              "      <td>130 runs</td>\n",
              "      <td>Melbourne</td>\n",
              "      <td>2015-02-22</td>\n",
              "      <td>ODI # 3610</td>\n",
              "      <td>2015</td>\n",
              "    </tr>\n",
              "    <tr>\n",
              "      <th>3</th>\n",
              "      <td>New Zealand</td>\n",
              "      <td>Australia</td>\n",
              "      <td>New Zealand</td>\n",
              "      <td>1 wicket</td>\n",
              "      <td>Auckland</td>\n",
              "      <td>2015-02-28</td>\n",
              "      <td>ODI # 3617</td>\n",
              "      <td>2015</td>\n",
              "    </tr>\n",
              "    <tr>\n",
              "      <th>4</th>\n",
              "      <td>New Zealand</td>\n",
              "      <td>South Africa</td>\n",
              "      <td>New Zealand</td>\n",
              "      <td>4 wickets</td>\n",
              "      <td>Auckland</td>\n",
              "      <td>2015-03-24</td>\n",
              "      <td>ODI # 3644</td>\n",
              "      <td>2015</td>\n",
              "    </tr>\n",
              "  </tbody>\n",
              "</table>\n",
              "</div>\n",
              "    <div class=\"colab-df-buttons\">\n",
              "\n",
              "  <div class=\"colab-df-container\">\n",
              "    <button class=\"colab-df-convert\" onclick=\"convertToInteractive('df-358afc56-0918-4721-ab8b-9c68a56603ce')\"\n",
              "            title=\"Convert this dataframe to an interactive table.\"\n",
              "            style=\"display:none;\">\n",
              "\n",
              "  <svg xmlns=\"http://www.w3.org/2000/svg\" height=\"24px\" viewBox=\"0 -960 960 960\">\n",
              "    <path d=\"M120-120v-720h720v720H120Zm60-500h600v-160H180v160Zm220 220h160v-160H400v160Zm0 220h160v-160H400v160ZM180-400h160v-160H180v160Zm440 0h160v-160H620v160ZM180-180h160v-160H180v160Zm440 0h160v-160H620v160Z\"/>\n",
              "  </svg>\n",
              "    </button>\n",
              "\n",
              "  <style>\n",
              "    .colab-df-container {\n",
              "      display:flex;\n",
              "      gap: 12px;\n",
              "    }\n",
              "\n",
              "    .colab-df-convert {\n",
              "      background-color: #E8F0FE;\n",
              "      border: none;\n",
              "      border-radius: 50%;\n",
              "      cursor: pointer;\n",
              "      display: none;\n",
              "      fill: #1967D2;\n",
              "      height: 32px;\n",
              "      padding: 0 0 0 0;\n",
              "      width: 32px;\n",
              "    }\n",
              "\n",
              "    .colab-df-convert:hover {\n",
              "      background-color: #E2EBFA;\n",
              "      box-shadow: 0px 1px 2px rgba(60, 64, 67, 0.3), 0px 1px 3px 1px rgba(60, 64, 67, 0.15);\n",
              "      fill: #174EA6;\n",
              "    }\n",
              "\n",
              "    .colab-df-buttons div {\n",
              "      margin-bottom: 4px;\n",
              "    }\n",
              "\n",
              "    [theme=dark] .colab-df-convert {\n",
              "      background-color: #3B4455;\n",
              "      fill: #D2E3FC;\n",
              "    }\n",
              "\n",
              "    [theme=dark] .colab-df-convert:hover {\n",
              "      background-color: #434B5C;\n",
              "      box-shadow: 0px 1px 3px 1px rgba(0, 0, 0, 0.15);\n",
              "      filter: drop-shadow(0px 1px 2px rgba(0, 0, 0, 0.3));\n",
              "      fill: #FFFFFF;\n",
              "    }\n",
              "  </style>\n",
              "\n",
              "    <script>\n",
              "      const buttonEl =\n",
              "        document.querySelector('#df-358afc56-0918-4721-ab8b-9c68a56603ce button.colab-df-convert');\n",
              "      buttonEl.style.display =\n",
              "        google.colab.kernel.accessAllowed ? 'block' : 'none';\n",
              "\n",
              "      async function convertToInteractive(key) {\n",
              "        const element = document.querySelector('#df-358afc56-0918-4721-ab8b-9c68a56603ce');\n",
              "        const dataTable =\n",
              "          await google.colab.kernel.invokeFunction('convertToInteractive',\n",
              "                                                    [key], {});\n",
              "        if (!dataTable) return;\n",
              "\n",
              "        const docLinkHtml = 'Like what you see? Visit the ' +\n",
              "          '<a target=\"_blank\" href=https://colab.research.google.com/notebooks/data_table.ipynb>data table notebook</a>'\n",
              "          + ' to learn more about interactive tables.';\n",
              "        element.innerHTML = '';\n",
              "        dataTable['output_type'] = 'display_data';\n",
              "        await google.colab.output.renderOutput(dataTable, element);\n",
              "        const docLink = document.createElement('div');\n",
              "        docLink.innerHTML = docLinkHtml;\n",
              "        element.appendChild(docLink);\n",
              "      }\n",
              "    </script>\n",
              "  </div>\n",
              "\n",
              "\n",
              "<div id=\"df-dafa0fb6-c0b7-42a7-9c0d-0337ea6a07b6\">\n",
              "  <button class=\"colab-df-quickchart\" onclick=\"quickchart('df-dafa0fb6-c0b7-42a7-9c0d-0337ea6a07b6')\"\n",
              "            title=\"Suggest charts\"\n",
              "            style=\"display:none;\">\n",
              "\n",
              "<svg xmlns=\"http://www.w3.org/2000/svg\" height=\"24px\"viewBox=\"0 0 24 24\"\n",
              "     width=\"24px\">\n",
              "    <g>\n",
              "        <path d=\"M19 3H5c-1.1 0-2 .9-2 2v14c0 1.1.9 2 2 2h14c1.1 0 2-.9 2-2V5c0-1.1-.9-2-2-2zM9 17H7v-7h2v7zm4 0h-2V7h2v10zm4 0h-2v-4h2v4z\"/>\n",
              "    </g>\n",
              "</svg>\n",
              "  </button>\n",
              "\n",
              "<style>\n",
              "  .colab-df-quickchart {\n",
              "      --bg-color: #E8F0FE;\n",
              "      --fill-color: #1967D2;\n",
              "      --hover-bg-color: #E2EBFA;\n",
              "      --hover-fill-color: #174EA6;\n",
              "      --disabled-fill-color: #AAA;\n",
              "      --disabled-bg-color: #DDD;\n",
              "  }\n",
              "\n",
              "  [theme=dark] .colab-df-quickchart {\n",
              "      --bg-color: #3B4455;\n",
              "      --fill-color: #D2E3FC;\n",
              "      --hover-bg-color: #434B5C;\n",
              "      --hover-fill-color: #FFFFFF;\n",
              "      --disabled-bg-color: #3B4455;\n",
              "      --disabled-fill-color: #666;\n",
              "  }\n",
              "\n",
              "  .colab-df-quickchart {\n",
              "    background-color: var(--bg-color);\n",
              "    border: none;\n",
              "    border-radius: 50%;\n",
              "    cursor: pointer;\n",
              "    display: none;\n",
              "    fill: var(--fill-color);\n",
              "    height: 32px;\n",
              "    padding: 0;\n",
              "    width: 32px;\n",
              "  }\n",
              "\n",
              "  .colab-df-quickchart:hover {\n",
              "    background-color: var(--hover-bg-color);\n",
              "    box-shadow: 0 1px 2px rgba(60, 64, 67, 0.3), 0 1px 3px 1px rgba(60, 64, 67, 0.15);\n",
              "    fill: var(--button-hover-fill-color);\n",
              "  }\n",
              "\n",
              "  .colab-df-quickchart-complete:disabled,\n",
              "  .colab-df-quickchart-complete:disabled:hover {\n",
              "    background-color: var(--disabled-bg-color);\n",
              "    fill: var(--disabled-fill-color);\n",
              "    box-shadow: none;\n",
              "  }\n",
              "\n",
              "  .colab-df-spinner {\n",
              "    border: 2px solid var(--fill-color);\n",
              "    border-color: transparent;\n",
              "    border-bottom-color: var(--fill-color);\n",
              "    animation:\n",
              "      spin 1s steps(1) infinite;\n",
              "  }\n",
              "\n",
              "  @keyframes spin {\n",
              "    0% {\n",
              "      border-color: transparent;\n",
              "      border-bottom-color: var(--fill-color);\n",
              "      border-left-color: var(--fill-color);\n",
              "    }\n",
              "    20% {\n",
              "      border-color: transparent;\n",
              "      border-left-color: var(--fill-color);\n",
              "      border-top-color: var(--fill-color);\n",
              "    }\n",
              "    30% {\n",
              "      border-color: transparent;\n",
              "      border-left-color: var(--fill-color);\n",
              "      border-top-color: var(--fill-color);\n",
              "      border-right-color: var(--fill-color);\n",
              "    }\n",
              "    40% {\n",
              "      border-color: transparent;\n",
              "      border-right-color: var(--fill-color);\n",
              "      border-top-color: var(--fill-color);\n",
              "    }\n",
              "    60% {\n",
              "      border-color: transparent;\n",
              "      border-right-color: var(--fill-color);\n",
              "    }\n",
              "    80% {\n",
              "      border-color: transparent;\n",
              "      border-right-color: var(--fill-color);\n",
              "      border-bottom-color: var(--fill-color);\n",
              "    }\n",
              "    90% {\n",
              "      border-color: transparent;\n",
              "      border-bottom-color: var(--fill-color);\n",
              "    }\n",
              "  }\n",
              "</style>\n",
              "\n",
              "  <script>\n",
              "    async function quickchart(key) {\n",
              "      const quickchartButtonEl =\n",
              "        document.querySelector('#' + key + ' button');\n",
              "      quickchartButtonEl.disabled = true;  // To prevent multiple clicks.\n",
              "      quickchartButtonEl.classList.add('colab-df-spinner');\n",
              "      try {\n",
              "        const charts = await google.colab.kernel.invokeFunction(\n",
              "            'suggestCharts', [key], {});\n",
              "      } catch (error) {\n",
              "        console.error('Error during call to suggestCharts:', error);\n",
              "      }\n",
              "      quickchartButtonEl.classList.remove('colab-df-spinner');\n",
              "      quickchartButtonEl.classList.add('colab-df-quickchart-complete');\n",
              "    }\n",
              "    (() => {\n",
              "      let quickchartButtonEl =\n",
              "        document.querySelector('#df-dafa0fb6-c0b7-42a7-9c0d-0337ea6a07b6 button');\n",
              "      quickchartButtonEl.style.display =\n",
              "        google.colab.kernel.accessAllowed ? 'block' : 'none';\n",
              "    })();\n",
              "  </script>\n",
              "</div>\n",
              "    </div>\n",
              "  </div>\n"
            ]
          },
          "metadata": {},
          "execution_count": 490
        }
      ],
      "source": [
        "odi_data.head()"
      ],
      "id": "MBxbUHgxGUIu"
    },
    {
      "cell_type": "code",
      "execution_count": 475,
      "metadata": {
        "colab": {
          "base_uri": "https://localhost:8080/",
          "height": 206
        },
        "id": "FAc72fWLGW12",
        "outputId": "d3057e8f-6bff-4272-f021-d439bc3a035a"
      },
      "outputs": [
        {
          "output_type": "execute_result",
          "data": {
            "text/plain": [
              "          Team 1        Team 2        Winner     Margin        Ground  \\\n",
              "124    Australia  South Africa  South Africa   134 runs       Lucknow   \n",
              "125        India   New Zealand         India  4 wickets    Dharamsala   \n",
              "126    Australia   New Zealand     Australia     5 runs    Dharamsala   \n",
              "127  New Zealand  South Africa  South Africa   190 runs          Pune   \n",
              "128        India  South Africa         India   243 runs  Eden Gardens   \n",
              "\n",
              "       Match Date   Scorecard  \n",
              "124  Oct 12, 2023  ODI # 4667  \n",
              "125  Oct 22, 2023  ODI # 4678  \n",
              "126  Oct 28, 2023  ODI # 4684  \n",
              "127   Nov 1, 2023  ODI # 4689  \n",
              "128   Nov 5, 2023  ODI # 4694  "
            ],
            "text/html": [
              "\n",
              "  <div id=\"df-7c2d1203-b08f-4480-9d82-fbab21c3b52e\" class=\"colab-df-container\">\n",
              "    <div>\n",
              "<style scoped>\n",
              "    .dataframe tbody tr th:only-of-type {\n",
              "        vertical-align: middle;\n",
              "    }\n",
              "\n",
              "    .dataframe tbody tr th {\n",
              "        vertical-align: top;\n",
              "    }\n",
              "\n",
              "    .dataframe thead th {\n",
              "        text-align: right;\n",
              "    }\n",
              "</style>\n",
              "<table border=\"1\" class=\"dataframe\">\n",
              "  <thead>\n",
              "    <tr style=\"text-align: right;\">\n",
              "      <th></th>\n",
              "      <th>Team 1</th>\n",
              "      <th>Team 2</th>\n",
              "      <th>Winner</th>\n",
              "      <th>Margin</th>\n",
              "      <th>Ground</th>\n",
              "      <th>Match Date</th>\n",
              "      <th>Scorecard</th>\n",
              "    </tr>\n",
              "  </thead>\n",
              "  <tbody>\n",
              "    <tr>\n",
              "      <th>124</th>\n",
              "      <td>Australia</td>\n",
              "      <td>South Africa</td>\n",
              "      <td>South Africa</td>\n",
              "      <td>134 runs</td>\n",
              "      <td>Lucknow</td>\n",
              "      <td>Oct 12, 2023</td>\n",
              "      <td>ODI # 4667</td>\n",
              "    </tr>\n",
              "    <tr>\n",
              "      <th>125</th>\n",
              "      <td>India</td>\n",
              "      <td>New Zealand</td>\n",
              "      <td>India</td>\n",
              "      <td>4 wickets</td>\n",
              "      <td>Dharamsala</td>\n",
              "      <td>Oct 22, 2023</td>\n",
              "      <td>ODI # 4678</td>\n",
              "    </tr>\n",
              "    <tr>\n",
              "      <th>126</th>\n",
              "      <td>Australia</td>\n",
              "      <td>New Zealand</td>\n",
              "      <td>Australia</td>\n",
              "      <td>5 runs</td>\n",
              "      <td>Dharamsala</td>\n",
              "      <td>Oct 28, 2023</td>\n",
              "      <td>ODI # 4684</td>\n",
              "    </tr>\n",
              "    <tr>\n",
              "      <th>127</th>\n",
              "      <td>New Zealand</td>\n",
              "      <td>South Africa</td>\n",
              "      <td>South Africa</td>\n",
              "      <td>190 runs</td>\n",
              "      <td>Pune</td>\n",
              "      <td>Nov 1, 2023</td>\n",
              "      <td>ODI # 4689</td>\n",
              "    </tr>\n",
              "    <tr>\n",
              "      <th>128</th>\n",
              "      <td>India</td>\n",
              "      <td>South Africa</td>\n",
              "      <td>India</td>\n",
              "      <td>243 runs</td>\n",
              "      <td>Eden Gardens</td>\n",
              "      <td>Nov 5, 2023</td>\n",
              "      <td>ODI # 4694</td>\n",
              "    </tr>\n",
              "  </tbody>\n",
              "</table>\n",
              "</div>\n",
              "    <div class=\"colab-df-buttons\">\n",
              "\n",
              "  <div class=\"colab-df-container\">\n",
              "    <button class=\"colab-df-convert\" onclick=\"convertToInteractive('df-7c2d1203-b08f-4480-9d82-fbab21c3b52e')\"\n",
              "            title=\"Convert this dataframe to an interactive table.\"\n",
              "            style=\"display:none;\">\n",
              "\n",
              "  <svg xmlns=\"http://www.w3.org/2000/svg\" height=\"24px\" viewBox=\"0 -960 960 960\">\n",
              "    <path d=\"M120-120v-720h720v720H120Zm60-500h600v-160H180v160Zm220 220h160v-160H400v160Zm0 220h160v-160H400v160ZM180-400h160v-160H180v160Zm440 0h160v-160H620v160ZM180-180h160v-160H180v160Zm440 0h160v-160H620v160Z\"/>\n",
              "  </svg>\n",
              "    </button>\n",
              "\n",
              "  <style>\n",
              "    .colab-df-container {\n",
              "      display:flex;\n",
              "      gap: 12px;\n",
              "    }\n",
              "\n",
              "    .colab-df-convert {\n",
              "      background-color: #E8F0FE;\n",
              "      border: none;\n",
              "      border-radius: 50%;\n",
              "      cursor: pointer;\n",
              "      display: none;\n",
              "      fill: #1967D2;\n",
              "      height: 32px;\n",
              "      padding: 0 0 0 0;\n",
              "      width: 32px;\n",
              "    }\n",
              "\n",
              "    .colab-df-convert:hover {\n",
              "      background-color: #E2EBFA;\n",
              "      box-shadow: 0px 1px 2px rgba(60, 64, 67, 0.3), 0px 1px 3px 1px rgba(60, 64, 67, 0.15);\n",
              "      fill: #174EA6;\n",
              "    }\n",
              "\n",
              "    .colab-df-buttons div {\n",
              "      margin-bottom: 4px;\n",
              "    }\n",
              "\n",
              "    [theme=dark] .colab-df-convert {\n",
              "      background-color: #3B4455;\n",
              "      fill: #D2E3FC;\n",
              "    }\n",
              "\n",
              "    [theme=dark] .colab-df-convert:hover {\n",
              "      background-color: #434B5C;\n",
              "      box-shadow: 0px 1px 3px 1px rgba(0, 0, 0, 0.15);\n",
              "      filter: drop-shadow(0px 1px 2px rgba(0, 0, 0, 0.3));\n",
              "      fill: #FFFFFF;\n",
              "    }\n",
              "  </style>\n",
              "\n",
              "    <script>\n",
              "      const buttonEl =\n",
              "        document.querySelector('#df-7c2d1203-b08f-4480-9d82-fbab21c3b52e button.colab-df-convert');\n",
              "      buttonEl.style.display =\n",
              "        google.colab.kernel.accessAllowed ? 'block' : 'none';\n",
              "\n",
              "      async function convertToInteractive(key) {\n",
              "        const element = document.querySelector('#df-7c2d1203-b08f-4480-9d82-fbab21c3b52e');\n",
              "        const dataTable =\n",
              "          await google.colab.kernel.invokeFunction('convertToInteractive',\n",
              "                                                    [key], {});\n",
              "        if (!dataTable) return;\n",
              "\n",
              "        const docLinkHtml = 'Like what you see? Visit the ' +\n",
              "          '<a target=\"_blank\" href=https://colab.research.google.com/notebooks/data_table.ipynb>data table notebook</a>'\n",
              "          + ' to learn more about interactive tables.';\n",
              "        element.innerHTML = '';\n",
              "        dataTable['output_type'] = 'display_data';\n",
              "        await google.colab.output.renderOutput(dataTable, element);\n",
              "        const docLink = document.createElement('div');\n",
              "        docLink.innerHTML = docLinkHtml;\n",
              "        element.appendChild(docLink);\n",
              "      }\n",
              "    </script>\n",
              "  </div>\n",
              "\n",
              "\n",
              "<div id=\"df-f716463b-441b-4e53-a882-7bd8a93a4ce4\">\n",
              "  <button class=\"colab-df-quickchart\" onclick=\"quickchart('df-f716463b-441b-4e53-a882-7bd8a93a4ce4')\"\n",
              "            title=\"Suggest charts\"\n",
              "            style=\"display:none;\">\n",
              "\n",
              "<svg xmlns=\"http://www.w3.org/2000/svg\" height=\"24px\"viewBox=\"0 0 24 24\"\n",
              "     width=\"24px\">\n",
              "    <g>\n",
              "        <path d=\"M19 3H5c-1.1 0-2 .9-2 2v14c0 1.1.9 2 2 2h14c1.1 0 2-.9 2-2V5c0-1.1-.9-2-2-2zM9 17H7v-7h2v7zm4 0h-2V7h2v10zm4 0h-2v-4h2v4z\"/>\n",
              "    </g>\n",
              "</svg>\n",
              "  </button>\n",
              "\n",
              "<style>\n",
              "  .colab-df-quickchart {\n",
              "      --bg-color: #E8F0FE;\n",
              "      --fill-color: #1967D2;\n",
              "      --hover-bg-color: #E2EBFA;\n",
              "      --hover-fill-color: #174EA6;\n",
              "      --disabled-fill-color: #AAA;\n",
              "      --disabled-bg-color: #DDD;\n",
              "  }\n",
              "\n",
              "  [theme=dark] .colab-df-quickchart {\n",
              "      --bg-color: #3B4455;\n",
              "      --fill-color: #D2E3FC;\n",
              "      --hover-bg-color: #434B5C;\n",
              "      --hover-fill-color: #FFFFFF;\n",
              "      --disabled-bg-color: #3B4455;\n",
              "      --disabled-fill-color: #666;\n",
              "  }\n",
              "\n",
              "  .colab-df-quickchart {\n",
              "    background-color: var(--bg-color);\n",
              "    border: none;\n",
              "    border-radius: 50%;\n",
              "    cursor: pointer;\n",
              "    display: none;\n",
              "    fill: var(--fill-color);\n",
              "    height: 32px;\n",
              "    padding: 0;\n",
              "    width: 32px;\n",
              "  }\n",
              "\n",
              "  .colab-df-quickchart:hover {\n",
              "    background-color: var(--hover-bg-color);\n",
              "    box-shadow: 0 1px 2px rgba(60, 64, 67, 0.3), 0 1px 3px 1px rgba(60, 64, 67, 0.15);\n",
              "    fill: var(--button-hover-fill-color);\n",
              "  }\n",
              "\n",
              "  .colab-df-quickchart-complete:disabled,\n",
              "  .colab-df-quickchart-complete:disabled:hover {\n",
              "    background-color: var(--disabled-bg-color);\n",
              "    fill: var(--disabled-fill-color);\n",
              "    box-shadow: none;\n",
              "  }\n",
              "\n",
              "  .colab-df-spinner {\n",
              "    border: 2px solid var(--fill-color);\n",
              "    border-color: transparent;\n",
              "    border-bottom-color: var(--fill-color);\n",
              "    animation:\n",
              "      spin 1s steps(1) infinite;\n",
              "  }\n",
              "\n",
              "  @keyframes spin {\n",
              "    0% {\n",
              "      border-color: transparent;\n",
              "      border-bottom-color: var(--fill-color);\n",
              "      border-left-color: var(--fill-color);\n",
              "    }\n",
              "    20% {\n",
              "      border-color: transparent;\n",
              "      border-left-color: var(--fill-color);\n",
              "      border-top-color: var(--fill-color);\n",
              "    }\n",
              "    30% {\n",
              "      border-color: transparent;\n",
              "      border-left-color: var(--fill-color);\n",
              "      border-top-color: var(--fill-color);\n",
              "      border-right-color: var(--fill-color);\n",
              "    }\n",
              "    40% {\n",
              "      border-color: transparent;\n",
              "      border-right-color: var(--fill-color);\n",
              "      border-top-color: var(--fill-color);\n",
              "    }\n",
              "    60% {\n",
              "      border-color: transparent;\n",
              "      border-right-color: var(--fill-color);\n",
              "    }\n",
              "    80% {\n",
              "      border-color: transparent;\n",
              "      border-right-color: var(--fill-color);\n",
              "      border-bottom-color: var(--fill-color);\n",
              "    }\n",
              "    90% {\n",
              "      border-color: transparent;\n",
              "      border-bottom-color: var(--fill-color);\n",
              "    }\n",
              "  }\n",
              "</style>\n",
              "\n",
              "  <script>\n",
              "    async function quickchart(key) {\n",
              "      const quickchartButtonEl =\n",
              "        document.querySelector('#' + key + ' button');\n",
              "      quickchartButtonEl.disabled = true;  // To prevent multiple clicks.\n",
              "      quickchartButtonEl.classList.add('colab-df-spinner');\n",
              "      try {\n",
              "        const charts = await google.colab.kernel.invokeFunction(\n",
              "            'suggestCharts', [key], {});\n",
              "      } catch (error) {\n",
              "        console.error('Error during call to suggestCharts:', error);\n",
              "      }\n",
              "      quickchartButtonEl.classList.remove('colab-df-spinner');\n",
              "      quickchartButtonEl.classList.add('colab-df-quickchart-complete');\n",
              "    }\n",
              "    (() => {\n",
              "      let quickchartButtonEl =\n",
              "        document.querySelector('#df-f716463b-441b-4e53-a882-7bd8a93a4ce4 button');\n",
              "      quickchartButtonEl.style.display =\n",
              "        google.colab.kernel.accessAllowed ? 'block' : 'none';\n",
              "    })();\n",
              "  </script>\n",
              "</div>\n",
              "    </div>\n",
              "  </div>\n"
            ]
          },
          "metadata": {},
          "execution_count": 475
        }
      ],
      "source": [
        "odi_data.tail()"
      ],
      "id": "FAc72fWLGW12"
    },
    {
      "cell_type": "code",
      "source": [
        "odi_data = odi_data.rename(columns={'Team 1': 'Team_A', 'Team 2': 'Team_B'})"
      ],
      "metadata": {
        "id": "I5DDHaABoNtO"
      },
      "id": "I5DDHaABoNtO",
      "execution_count": 476,
      "outputs": []
    },
    {
      "cell_type": "code",
      "source": [
        "odi_data['Match Date'] = pd.to_datetime(odi_data['Match Date'])"
      ],
      "metadata": {
        "id": "TUgrpD4mNpXJ"
      },
      "id": "TUgrpD4mNpXJ",
      "execution_count": 477,
      "outputs": []
    },
    {
      "cell_type": "code",
      "source": [
        "#Matches played over years\n",
        "plt.figure(figsize=(12, 6))\n",
        "odi_data['Year'] = odi_data['Match Date'].dt.year\n",
        "sns.countplot(x='Year', data=odi_data)\n",
        "plt.title('Number of Matches Over Years')\n",
        "plt.show()"
      ],
      "metadata": {
        "colab": {
          "base_uri": "https://localhost:8080/",
          "height": 564
        },
        "id": "F30dC12pNYqk",
        "outputId": "f0573e4e-9ed7-479d-dd73-e18b990f9936"
      },
      "id": "F30dC12pNYqk",
      "execution_count": 479,
      "outputs": [
        {
          "output_type": "display_data",
          "data": {
            "text/plain": [
              "<Figure size 1200x600 with 1 Axes>"
            ],
            "image/png": "[encoded data removed]"
          },
          "metadata": {}
        }
      ]
    },
    {
      "cell_type": "code",
      "source": [
        "#Win counts by each team\n",
        "plt.figure(figsize=(10, 6))\n",
        "sns.countplot(x='Winner', data=odi_data)\n",
        "plt.title('Distribution of Winners')\n",
        "plt.show()"
      ],
      "metadata": {
        "colab": {
          "base_uri": "https://localhost:8080/",
          "height": 564
        },
        "id": "whTK-TbTOL2I",
        "outputId": "ba5bc286-c410-4b84-d0bc-378beba6d3fa"
      },
      "id": "whTK-TbTOL2I",
      "execution_count": 480,
      "outputs": [
        {
          "output_type": "display_data",
          "data": {
            "text/plain": [
              "<Figure size 1000x600 with 1 Axes>"
            ],
            "image/png": "[encoded data removed]"
          },
          "metadata": {}
        }
      ]
    },
    {
      "cell_type": "code",
      "source": [
        "# Win percentage pie plot\n",
        "win_counts = odi_data['Winner'].value_counts()\n",
        "plt.figure(figsize=(8, 8))\n",
        "plt.pie(win_counts, labels=win_counts.index, autopct='%1.1f%%', startangle=90)\n",
        "plt.title('Win Percentage by Team')\n",
        "plt.show()"
      ],
      "metadata": {
        "colab": {
          "base_uri": "https://localhost:8080/",
          "height": 675
        },
        "id": "9Y0jlEl5OjGU",
        "outputId": "5bd931ed-a0c8-478c-e98c-d4424a7635fd"
      },
      "id": "9Y0jlEl5OjGU",
      "execution_count": 481,
      "outputs": [
        {
          "output_type": "display_data",
          "data": {
            "text/plain": [
              "<Figure size 800x800 with 1 Axes>"
            ],
            "image/png": "[encoded data removed]"
          },
          "metadata": {}
        }
      ]
    },
    {
      "cell_type": "code",
      "source": [
        "#Encoding the data\n",
        "label_encoder = LabelEncoder()\n",
        "for column in odi_data.columns:\n",
        "    # Check if the column data type is object\n",
        "    if odi_data[column].dtype == 'object':\n",
        "        # Use LabelEncoder to encode the categorical values\n",
        "        odi_data[column] = label_encoder.fit_transform(odi_data[column])"
      ],
      "metadata": {
        "id": "4_6IKalgnB5i"
      },
      "id": "4_6IKalgnB5i",
      "execution_count": 428,
      "outputs": []
    },
    {
      "cell_type": "code",
      "source": [
        "#Calculating Correlation\n",
        "cor = odi_data.corr()"
      ],
      "metadata": {
        "id": "NHLgPCUSnTiB"
      },
      "id": "NHLgPCUSnTiB",
      "execution_count": 429,
      "outputs": []
    },
    {
      "cell_type": "code",
      "source": [
        "#Correlation Heatmap\n",
        "plt.figure(figsize=(10, 8))\n",
        "sns.heatmap(cor, annot=True, cmap='coolwarm')\n",
        "plt.title('Correlation Heatmap')\n",
        "plt.show()"
      ],
      "metadata": {
        "colab": {
          "base_uri": "https://localhost:8080/",
          "height": 699
        },
        "id": "XhBWiX6so8Bh",
        "outputId": "880b3f28-b8f7-4a82-a267-9b7129ce3ea7"
      },
      "id": "XhBWiX6so8Bh",
      "execution_count": 430,
      "outputs": [
        {
          "output_type": "display_data",
          "data": {
            "text/plain": [
              "<Figure size 1000x800 with 2 Axes>"
            ],
            "image/png": "[encoded data removed]"
          },
          "metadata": {}
        }
      ]
    },
    {
      "cell_type": "code",
      "source": [
        "#Dropping columns because of low co-relation and dropping margin because when we predict we won't give margin as feature as we can't predict\n",
        "#margin manually before the match.\n",
        "colss = ['Margin','Scorecard','Match Date']\n",
        "odi_data.drop(columns = colss,inplace =True)\n",
        "odi_data_all.drop(columns = colss,inplace =True)"
      ],
      "metadata": {
        "id": "gTF0j-2sr6EW"
      },
      "id": "gTF0j-2sr6EW",
      "execution_count": 431,
      "outputs": []
    },
    {
      "cell_type": "markdown",
      "source": [
        "Extracting ICC odi rankings of teams"
      ],
      "metadata": {
        "id": "7OJIyJfyG1e3"
      },
      "id": "7OJIyJfyG1e3"
    },
    {
      "cell_type": "code",
      "execution_count": 432,
      "metadata": {
        "id": "EwewH6YiGsfV"
      },
      "outputs": [],
      "source": [
        "url1 = \"https://www.espncricinfo.com/rankings/content/page/211271.html\""
      ],
      "id": "EwewH6YiGsfV"
    },
    {
      "cell_type": "code",
      "execution_count": 433,
      "metadata": {
        "id": "uI3g97XRJxMe"
      },
      "outputs": [],
      "source": [
        "icc_ranking_table = pd.read_html(url1)"
      ],
      "id": "uI3g97XRJxMe"
    },
    {
      "cell_type": "code",
      "execution_count": 434,
      "metadata": {
        "id": "ivLu89KyJ20x"
      },
      "outputs": [],
      "source": [
        "rankings = icc_ranking_table[1]"
      ],
      "id": "ivLu89KyJ20x"
    },
    {
      "cell_type": "code",
      "execution_count": 435,
      "metadata": {
        "colab": {
          "base_uri": "https://localhost:8080/",
          "height": 206
        },
        "id": "b9CuJLNrKEzM",
        "outputId": "49d50174-c0e7-4956-8a78-0ed2dea33285"
      },
      "outputs": [
        {
          "output_type": "execute_result",
          "data": {
            "text/plain": [
              "   Pos          Team  Matches  Points  Rating\n",
              "0    1         India       53    6421     121\n",
              "1    2     Australia       40    4592     115\n",
              "2    3  South Africa       33    3685     112\n",
              "3    4      Pakistan       36    3922     109\n",
              "4    5   New Zealand       42    4328     103"
            ],
            "text/html": [
              "\n",
              "  <div id=\"df-0dd7d3b2-b9c0-436a-b9c2-f84f9b2eb41f\" class=\"colab-df-container\">\n",
              "    <div>\n",
              "<style scoped>\n",
              "    .dataframe tbody tr th:only-of-type {\n",
              "        vertical-align: middle;\n",
              "    }\n",
              "\n",
              "    .dataframe tbody tr th {\n",
              "        vertical-align: top;\n",
              "    }\n",
              "\n",
              "    .dataframe thead th {\n",
              "        text-align: right;\n",
              "    }\n",
              "</style>\n",
              "<table border=\"1\" class=\"dataframe\">\n",
              "  <thead>\n",
              "    <tr style=\"text-align: right;\">\n",
              "      <th></th>\n",
              "      <th>Pos</th>\n",
              "      <th>Team</th>\n",
              "      <th>Matches</th>\n",
              "      <th>Points</th>\n",
              "      <th>Rating</th>\n",
              "    </tr>\n",
              "  </thead>\n",
              "  <tbody>\n",
              "    <tr>\n",
              "      <th>0</th>\n",
              "      <td>1</td>\n",
              "      <td>India</td>\n",
              "      <td>53</td>\n",
              "      <td>6421</td>\n",
              "      <td>121</td>\n",
              "    </tr>\n",
              "    <tr>\n",
              "      <th>1</th>\n",
              "      <td>2</td>\n",
              "      <td>Australia</td>\n",
              "      <td>40</td>\n",
              "      <td>4592</td>\n",
              "      <td>115</td>\n",
              "    </tr>\n",
              "    <tr>\n",
              "      <th>2</th>\n",
              "      <td>3</td>\n",
              "      <td>South Africa</td>\n",
              "      <td>33</td>\n",
              "      <td>3685</td>\n",
              "      <td>112</td>\n",
              "    </tr>\n",
              "    <tr>\n",
              "      <th>3</th>\n",
              "      <td>4</td>\n",
              "      <td>Pakistan</td>\n",
              "      <td>36</td>\n",
              "      <td>3922</td>\n",
              "      <td>109</td>\n",
              "    </tr>\n",
              "    <tr>\n",
              "      <th>4</th>\n",
              "      <td>5</td>\n",
              "      <td>New Zealand</td>\n",
              "      <td>42</td>\n",
              "      <td>4328</td>\n",
              "      <td>103</td>\n",
              "    </tr>\n",
              "  </tbody>\n",
              "</table>\n",
              "</div>\n",
              "    <div class=\"colab-df-buttons\">\n",
              "\n",
              "  <div class=\"colab-df-container\">\n",
              "    <button class=\"colab-df-convert\" onclick=\"convertToInteractive('df-0dd7d3b2-b9c0-436a-b9c2-f84f9b2eb41f')\"\n",
              "            title=\"Convert this dataframe to an interactive table.\"\n",
              "            style=\"display:none;\">\n",
              "\n",
              "  <svg xmlns=\"http://www.w3.org/2000/svg\" height=\"24px\" viewBox=\"0 -960 960 960\">\n",
              "    <path d=\"M120-120v-720h720v720H120Zm60-500h600v-160H180v160Zm220 220h160v-160H400v160Zm0 220h160v-160H400v160ZM180-400h160v-160H180v160Zm440 0h160v-160H620v160ZM180-180h160v-160H180v160Zm440 0h160v-160H620v160Z\"/>\n",
              "  </svg>\n",
              "    </button>\n",
              "\n",
              "  <style>\n",
              "    .colab-df-container {\n",
              "      display:flex;\n",
              "      gap: 12px;\n",
              "    }\n",
              "\n",
              "    .colab-df-convert {\n",
              "      background-color: #E8F0FE;\n",
              "      border: none;\n",
              "      border-radius: 50%;\n",
              "      cursor: pointer;\n",
              "      display: none;\n",
              "      fill: #1967D2;\n",
              "      height: 32px;\n",
              "      padding: 0 0 0 0;\n",
              "      width: 32px;\n",
              "    }\n",
              "\n",
              "    .colab-df-convert:hover {\n",
              "      background-color: #E2EBFA;\n",
              "      box-shadow: 0px 1px 2px rgba(60, 64, 67, 0.3), 0px 1px 3px 1px rgba(60, 64, 67, 0.15);\n",
              "      fill: #174EA6;\n",
              "    }\n",
              "\n",
              "    .colab-df-buttons div {\n",
              "      margin-bottom: 4px;\n",
              "    }\n",
              "\n",
              "    [theme=dark] .colab-df-convert {\n",
              "      background-color: #3B4455;\n",
              "      fill: #D2E3FC;\n",
              "    }\n",
              "\n",
              "    [theme=dark] .colab-df-convert:hover {\n",
              "      background-color: #434B5C;\n",
              "      box-shadow: 0px 1px 3px 1px rgba(0, 0, 0, 0.15);\n",
              "      filter: drop-shadow(0px 1px 2px rgba(0, 0, 0, 0.3));\n",
              "      fill: #FFFFFF;\n",
              "    }\n",
              "  </style>\n",
              "\n",
              "    <script>\n",
              "      const buttonEl =\n",
              "        document.querySelector('#df-0dd7d3b2-b9c0-436a-b9c2-f84f9b2eb41f button.colab-df-convert');\n",
              "      buttonEl.style.display =\n",
              "        google.colab.kernel.accessAllowed ? 'block' : 'none';\n",
              "\n",
              "      async function convertToInteractive(key) {\n",
              "        const element = document.querySelector('#df-0dd7d3b2-b9c0-436a-b9c2-f84f9b2eb41f');\n",
              "        const dataTable =\n",
              "          await google.colab.kernel.invokeFunction('convertToInteractive',\n",
              "                                                    [key], {});\n",
              "        if (!dataTable) return;\n",
              "\n",
              "        const docLinkHtml = 'Like what you see? Visit the ' +\n",
              "          '<a target=\"_blank\" href=https://colab.research.google.com/notebooks/data_table.ipynb>data table notebook</a>'\n",
              "          + ' to learn more about interactive tables.';\n",
              "        element.innerHTML = '';\n",
              "        dataTable['output_type'] = 'display_data';\n",
              "        await google.colab.output.renderOutput(dataTable, element);\n",
              "        const docLink = document.createElement('div');\n",
              "        docLink.innerHTML = docLinkHtml;\n",
              "        element.appendChild(docLink);\n",
              "      }\n",
              "    </script>\n",
              "  </div>\n",
              "\n",
              "\n",
              "<div id=\"df-110673bd-122c-4945-8283-a7edfc6f51a4\">\n",
              "  <button class=\"colab-df-quickchart\" onclick=\"quickchart('df-110673bd-122c-4945-8283-a7edfc6f51a4')\"\n",
              "            title=\"Suggest charts\"\n",
              "            style=\"display:none;\">\n",
              "\n",
              "<svg xmlns=\"http://www.w3.org/2000/svg\" height=\"24px\"viewBox=\"0 0 24 24\"\n",
              "     width=\"24px\">\n",
              "    <g>\n",
              "        <path d=\"M19 3H5c-1.1 0-2 .9-2 2v14c0 1.1.9 2 2 2h14c1.1 0 2-.9 2-2V5c0-1.1-.9-2-2-2zM9 17H7v-7h2v7zm4 0h-2V7h2v10zm4 0h-2v-4h2v4z\"/>\n",
              "    </g>\n",
              "</svg>\n",
              "  </button>\n",
              "\n",
              "<style>\n",
              "  .colab-df-quickchart {\n",
              "      --bg-color: #E8F0FE;\n",
              "      --fill-color: #1967D2;\n",
              "      --hover-bg-color: #E2EBFA;\n",
              "      --hover-fill-color: #174EA6;\n",
              "      --disabled-fill-color: #AAA;\n",
              "      --disabled-bg-color: #DDD;\n",
              "  }\n",
              "\n",
              "  [theme=dark] .colab-df-quickchart {\n",
              "      --bg-color: #3B4455;\n",
              "      --fill-color: #D2E3FC;\n",
              "      --hover-bg-color: #434B5C;\n",
              "      --hover-fill-color: #FFFFFF;\n",
              "      --disabled-bg-color: #3B4455;\n",
              "      --disabled-fill-color: #666;\n",
              "  }\n",
              "\n",
              "  .colab-df-quickchart {\n",
              "    background-color: var(--bg-color);\n",
              "    border: none;\n",
              "    border-radius: 50%;\n",
              "    cursor: pointer;\n",
              "    display: none;\n",
              "    fill: var(--fill-color);\n",
              "    height: 32px;\n",
              "    padding: 0;\n",
              "    width: 32px;\n",
              "  }\n",
              "\n",
              "  .colab-df-quickchart:hover {\n",
              "    background-color: var(--hover-bg-color);\n",
              "    box-shadow: 0 1px 2px rgba(60, 64, 67, 0.3), 0 1px 3px 1px rgba(60, 64, 67, 0.15);\n",
              "    fill: var(--button-hover-fill-color);\n",
              "  }\n",
              "\n",
              "  .colab-df-quickchart-complete:disabled,\n",
              "  .colab-df-quickchart-complete:disabled:hover {\n",
              "    background-color: var(--disabled-bg-color);\n",
              "    fill: var(--disabled-fill-color);\n",
              "    box-shadow: none;\n",
              "  }\n",
              "\n",
              "  .colab-df-spinner {\n",
              "    border: 2px solid var(--fill-color);\n",
              "    border-color: transparent;\n",
              "    border-bottom-color: var(--fill-color);\n",
              "    animation:\n",
              "      spin 1s steps(1) infinite;\n",
              "  }\n",
              "\n",
              "  @keyframes spin {\n",
              "    0% {\n",
              "      border-color: transparent;\n",
              "      border-bottom-color: var(--fill-color);\n",
              "      border-left-color: var(--fill-color);\n",
              "    }\n",
              "    20% {\n",
              "      border-color: transparent;\n",
              "      border-left-color: var(--fill-color);\n",
              "      border-top-color: var(--fill-color);\n",
              "    }\n",
              "    30% {\n",
              "      border-color: transparent;\n",
              "      border-left-color: var(--fill-color);\n",
              "      border-top-color: var(--fill-color);\n",
              "      border-right-color: var(--fill-color);\n",
              "    }\n",
              "    40% {\n",
              "      border-color: transparent;\n",
              "      border-right-color: var(--fill-color);\n",
              "      border-top-color: var(--fill-color);\n",
              "    }\n",
              "    60% {\n",
              "      border-color: transparent;\n",
              "      border-right-color: var(--fill-color);\n",
              "    }\n",
              "    80% {\n",
              "      border-color: transparent;\n",
              "      border-right-color: var(--fill-color);\n",
              "      border-bottom-color: var(--fill-color);\n",
              "    }\n",
              "    90% {\n",
              "      border-color: transparent;\n",
              "      border-bottom-color: var(--fill-color);\n",
              "    }\n",
              "  }\n",
              "</style>\n",
              "\n",
              "  <script>\n",
              "    async function quickchart(key) {\n",
              "      const quickchartButtonEl =\n",
              "        document.querySelector('#' + key + ' button');\n",
              "      quickchartButtonEl.disabled = true;  // To prevent multiple clicks.\n",
              "      quickchartButtonEl.classList.add('colab-df-spinner');\n",
              "      try {\n",
              "        const charts = await google.colab.kernel.invokeFunction(\n",
              "            'suggestCharts', [key], {});\n",
              "      } catch (error) {\n",
              "        console.error('Error during call to suggestCharts:', error);\n",
              "      }\n",
              "      quickchartButtonEl.classList.remove('colab-df-spinner');\n",
              "      quickchartButtonEl.classList.add('colab-df-quickchart-complete');\n",
              "    }\n",
              "    (() => {\n",
              "      let quickchartButtonEl =\n",
              "        document.querySelector('#df-110673bd-122c-4945-8283-a7edfc6f51a4 button');\n",
              "      quickchartButtonEl.style.display =\n",
              "        google.colab.kernel.accessAllowed ? 'block' : 'none';\n",
              "    })();\n",
              "  </script>\n",
              "</div>\n",
              "    </div>\n",
              "  </div>\n"
            ]
          },
          "metadata": {},
          "execution_count": 435
        }
      ],
      "source": [
        "rankings.head()"
      ],
      "id": "b9CuJLNrKEzM"
    },
    {
      "cell_type": "code",
      "execution_count": 436,
      "metadata": {
        "id": "2TR-Ww00KYjY"
      },
      "outputs": [],
      "source": [
        "filtered_rankings = rankings[:5]"
      ],
      "id": "2TR-Ww00KYjY"
    },
    {
      "cell_type": "code",
      "execution_count": 437,
      "metadata": {
        "colab": {
          "base_uri": "https://localhost:8080/"
        },
        "id": "FF7lI90rKu0h",
        "outputId": "330cfbc7-553c-440d-dfb8-2a33ae005f8e"
      },
      "outputs": [
        {
          "output_type": "stream",
          "name": "stdout",
          "text": [
            "   Pos          Team  Matches  Points  Rating\n",
            "0    1         India       53    6421     121\n",
            "1    2     Australia       40    4592     115\n",
            "2    3  South Africa       33    3685     112\n",
            "3    4      Pakistan       36    3922     109\n",
            "4    5   New Zealand       42    4328     103\n"
          ]
        }
      ],
      "source": [
        "print(filtered_rankings)"
      ],
      "id": "FF7lI90rKu0h"
    },
    {
      "cell_type": "code",
      "source": [
        "urll = \"https://www.careerpower.in/cricket-world-cup-winners-list.html\""
      ],
      "metadata": {
        "id": "rlEFLmV_lp5o"
      },
      "id": "rlEFLmV_lp5o",
      "execution_count": 438,
      "outputs": []
    },
    {
      "cell_type": "code",
      "source": [
        "app = pd.read_html(urll)"
      ],
      "metadata": {
        "id": "RgX9pxe9lp_o"
      },
      "id": "RgX9pxe9lp_o",
      "execution_count": 439,
      "outputs": []
    },
    {
      "cell_type": "code",
      "source": [
        "final_appearences = app[1]\n",
        "teamss = ['India','South Africa','New Zealand','Australia']\n",
        "final_appearences = final_appearences[final_appearences[0].isin(teamss)]\n",
        "final_appearences.head()"
      ],
      "metadata": {
        "colab": {
          "base_uri": "https://localhost:8080/",
          "height": 143
        },
        "id": "v-oVmlr9lx5f",
        "outputId": "a52cfbc3-1a2f-4c02-f695-81ee4483e4a7"
      },
      "id": "v-oVmlr9lx5f",
      "execution_count": 440,
      "outputs": [
        {
          "output_type": "execute_result",
          "data": {
            "text/plain": [
              "             0  1  2  3                             4           5\n",
              "1    Australia  7  5  2  1987, 1999, 2003, 2007, 2015  1975, 1996\n",
              "3        India  3  2  1                    1983, 2011        2003\n",
              "4  New Zealand  2  0  2                             -  2015, 2019"
            ],
            "text/html": [
              "\n",
              "  <div id=\"df-5aae8f2a-4217-46f8-8161-9eb644d41bf6\" class=\"colab-df-container\">\n",
              "    <div>\n",
              "<style scoped>\n",
              "    .dataframe tbody tr th:only-of-type {\n",
              "        vertical-align: middle;\n",
              "    }\n",
              "\n",
              "    .dataframe tbody tr th {\n",
              "        vertical-align: top;\n",
              "    }\n",
              "\n",
              "    .dataframe thead th {\n",
              "        text-align: right;\n",
              "    }\n",
              "</style>\n",
              "<table border=\"1\" class=\"dataframe\">\n",
              "  <thead>\n",
              "    <tr style=\"text-align: right;\">\n",
              "      <th></th>\n",
              "      <th>0</th>\n",
              "      <th>1</th>\n",
              "      <th>2</th>\n",
              "      <th>3</th>\n",
              "      <th>4</th>\n",
              "      <th>5</th>\n",
              "    </tr>\n",
              "  </thead>\n",
              "  <tbody>\n",
              "    <tr>\n",
              "      <th>1</th>\n",
              "      <td>Australia</td>\n",
              "      <td>7</td>\n",
              "      <td>5</td>\n",
              "      <td>2</td>\n",
              "      <td>1987, 1999, 2003, 2007, 2015</td>\n",
              "      <td>1975, 1996</td>\n",
              "    </tr>\n",
              "    <tr>\n",
              "      <th>3</th>\n",
              "      <td>India</td>\n",
              "      <td>3</td>\n",
              "      <td>2</td>\n",
              "      <td>1</td>\n",
              "      <td>1983, 2011</td>\n",
              "      <td>2003</td>\n",
              "    </tr>\n",
              "    <tr>\n",
              "      <th>4</th>\n",
              "      <td>New Zealand</td>\n",
              "      <td>2</td>\n",
              "      <td>0</td>\n",
              "      <td>2</td>\n",
              "      <td>-</td>\n",
              "      <td>2015, 2019</td>\n",
              "    </tr>\n",
              "  </tbody>\n",
              "</table>\n",
              "</div>\n",
              "    <div class=\"colab-df-buttons\">\n",
              "\n",
              "  <div class=\"colab-df-container\">\n",
              "    <button class=\"colab-df-convert\" onclick=\"convertToInteractive('df-5aae8f2a-4217-46f8-8161-9eb644d41bf6')\"\n",
              "            title=\"Convert this dataframe to an interactive table.\"\n",
              "            style=\"display:none;\">\n",
              "\n",
              "  <svg xmlns=\"http://www.w3.org/2000/svg\" height=\"24px\" viewBox=\"0 -960 960 960\">\n",
              "    <path d=\"M120-120v-720h720v720H120Zm60-500h600v-160H180v160Zm220 220h160v-160H400v160Zm0 220h160v-160H400v160ZM180-400h160v-160H180v160Zm440 0h160v-160H620v160ZM180-180h160v-160H180v160Zm440 0h160v-160H620v160Z\"/>\n",
              "  </svg>\n",
              "    </button>\n",
              "\n",
              "  <style>\n",
              "    .colab-df-container {\n",
              "      display:flex;\n",
              "      gap: 12px;\n",
              "    }\n",
              "\n",
              "    .colab-df-convert {\n",
              "      background-color: #E8F0FE;\n",
              "      border: none;\n",
              "      border-radius: 50%;\n",
              "      cursor: pointer;\n",
              "      display: none;\n",
              "      fill: #1967D2;\n",
              "      height: 32px;\n",
              "      padding: 0 0 0 0;\n",
              "      width: 32px;\n",
              "    }\n",
              "\n",
              "    .colab-df-convert:hover {\n",
              "      background-color: #E2EBFA;\n",
              "      box-shadow: 0px 1px 2px rgba(60, 64, 67, 0.3), 0px 1px 3px 1px rgba(60, 64, 67, 0.15);\n",
              "      fill: #174EA6;\n",
              "    }\n",
              "\n",
              "    .colab-df-buttons div {\n",
              "      margin-bottom: 4px;\n",
              "    }\n",
              "\n",
              "    [theme=dark] .colab-df-convert {\n",
              "      background-color: #3B4455;\n",
              "      fill: #D2E3FC;\n",
              "    }\n",
              "\n",
              "    [theme=dark] .colab-df-convert:hover {\n",
              "      background-color: #434B5C;\n",
              "      box-shadow: 0px 1px 3px 1px rgba(0, 0, 0, 0.15);\n",
              "      filter: drop-shadow(0px 1px 2px rgba(0, 0, 0, 0.3));\n",
              "      fill: #FFFFFF;\n",
              "    }\n",
              "  </style>\n",
              "\n",
              "    <script>\n",
              "      const buttonEl =\n",
              "        document.querySelector('#df-5aae8f2a-4217-46f8-8161-9eb644d41bf6 button.colab-df-convert');\n",
              "      buttonEl.style.display =\n",
              "        google.colab.kernel.accessAllowed ? 'block' : 'none';\n",
              "\n",
              "      async function convertToInteractive(key) {\n",
              "        const element = document.querySelector('#df-5aae8f2a-4217-46f8-8161-9eb644d41bf6');\n",
              "        const dataTable =\n",
              "          await google.colab.kernel.invokeFunction('convertToInteractive',\n",
              "                                                    [key], {});\n",
              "        if (!dataTable) return;\n",
              "\n",
              "        const docLinkHtml = 'Like what you see? Visit the ' +\n",
              "          '<a target=\"_blank\" href=https://colab.research.google.com/notebooks/data_table.ipynb>data table notebook</a>'\n",
              "          + ' to learn more about interactive tables.';\n",
              "        element.innerHTML = '';\n",
              "        dataTable['output_type'] = 'display_data';\n",
              "        await google.colab.output.renderOutput(dataTable, element);\n",
              "        const docLink = document.createElement('div');\n",
              "        docLink.innerHTML = docLinkHtml;\n",
              "        element.appendChild(docLink);\n",
              "      }\n",
              "    </script>\n",
              "  </div>\n",
              "\n",
              "\n",
              "<div id=\"df-dbd55262-6089-4c95-ba34-de6eb7336c5d\">\n",
              "  <button class=\"colab-df-quickchart\" onclick=\"quickchart('df-dbd55262-6089-4c95-ba34-de6eb7336c5d')\"\n",
              "            title=\"Suggest charts\"\n",
              "            style=\"display:none;\">\n",
              "\n",
              "<svg xmlns=\"http://www.w3.org/2000/svg\" height=\"24px\"viewBox=\"0 0 24 24\"\n",
              "     width=\"24px\">\n",
              "    <g>\n",
              "        <path d=\"M19 3H5c-1.1 0-2 .9-2 2v14c0 1.1.9 2 2 2h14c1.1 0 2-.9 2-2V5c0-1.1-.9-2-2-2zM9 17H7v-7h2v7zm4 0h-2V7h2v10zm4 0h-2v-4h2v4z\"/>\n",
              "    </g>\n",
              "</svg>\n",
              "  </button>\n",
              "\n",
              "<style>\n",
              "  .colab-df-quickchart {\n",
              "      --bg-color: #E8F0FE;\n",
              "      --fill-color: #1967D2;\n",
              "      --hover-bg-color: #E2EBFA;\n",
              "      --hover-fill-color: #174EA6;\n",
              "      --disabled-fill-color: #AAA;\n",
              "      --disabled-bg-color: #DDD;\n",
              "  }\n",
              "\n",
              "  [theme=dark] .colab-df-quickchart {\n",
              "      --bg-color: #3B4455;\n",
              "      --fill-color: #D2E3FC;\n",
              "      --hover-bg-color: #434B5C;\n",
              "      --hover-fill-color: #FFFFFF;\n",
              "      --disabled-bg-color: #3B4455;\n",
              "      --disabled-fill-color: #666;\n",
              "  }\n",
              "\n",
              "  .colab-df-quickchart {\n",
              "    background-color: var(--bg-color);\n",
              "    border: none;\n",
              "    border-radius: 50%;\n",
              "    cursor: pointer;\n",
              "    display: none;\n",
              "    fill: var(--fill-color);\n",
              "    height: 32px;\n",
              "    padding: 0;\n",
              "    width: 32px;\n",
              "  }\n",
              "\n",
              "  .colab-df-quickchart:hover {\n",
              "    background-color: var(--hover-bg-color);\n",
              "    box-shadow: 0 1px 2px rgba(60, 64, 67, 0.3), 0 1px 3px 1px rgba(60, 64, 67, 0.15);\n",
              "    fill: var(--button-hover-fill-color);\n",
              "  }\n",
              "\n",
              "  .colab-df-quickchart-complete:disabled,\n",
              "  .colab-df-quickchart-complete:disabled:hover {\n",
              "    background-color: var(--disabled-bg-color);\n",
              "    fill: var(--disabled-fill-color);\n",
              "    box-shadow: none;\n",
              "  }\n",
              "\n",
              "  .colab-df-spinner {\n",
              "    border: 2px solid var(--fill-color);\n",
              "    border-color: transparent;\n",
              "    border-bottom-color: var(--fill-color);\n",
              "    animation:\n",
              "      spin 1s steps(1) infinite;\n",
              "  }\n",
              "\n",
              "  @keyframes spin {\n",
              "    0% {\n",
              "      border-color: transparent;\n",
              "      border-bottom-color: var(--fill-color);\n",
              "      border-left-color: var(--fill-color);\n",
              "    }\n",
              "    20% {\n",
              "      border-color: transparent;\n",
              "      border-left-color: var(--fill-color);\n",
              "      border-top-color: var(--fill-color);\n",
              "    }\n",
              "    30% {\n",
              "      border-color: transparent;\n",
              "      border-left-color: var(--fill-color);\n",
              "      border-top-color: var(--fill-color);\n",
              "      border-right-color: var(--fill-color);\n",
              "    }\n",
              "    40% {\n",
              "      border-color: transparent;\n",
              "      border-right-color: var(--fill-color);\n",
              "      border-top-color: var(--fill-color);\n",
              "    }\n",
              "    60% {\n",
              "      border-color: transparent;\n",
              "      border-right-color: var(--fill-color);\n",
              "    }\n",
              "    80% {\n",
              "      border-color: transparent;\n",
              "      border-right-color: var(--fill-color);\n",
              "      border-bottom-color: var(--fill-color);\n",
              "    }\n",
              "    90% {\n",
              "      border-color: transparent;\n",
              "      border-bottom-color: var(--fill-color);\n",
              "    }\n",
              "  }\n",
              "</style>\n",
              "\n",
              "  <script>\n",
              "    async function quickchart(key) {\n",
              "      const quickchartButtonEl =\n",
              "        document.querySelector('#' + key + ' button');\n",
              "      quickchartButtonEl.disabled = true;  // To prevent multiple clicks.\n",
              "      quickchartButtonEl.classList.add('colab-df-spinner');\n",
              "      try {\n",
              "        const charts = await google.colab.kernel.invokeFunction(\n",
              "            'suggestCharts', [key], {});\n",
              "      } catch (error) {\n",
              "        console.error('Error during call to suggestCharts:', error);\n",
              "      }\n",
              "      quickchartButtonEl.classList.remove('colab-df-spinner');\n",
              "      quickchartButtonEl.classList.add('colab-df-quickchart-complete');\n",
              "    }\n",
              "    (() => {\n",
              "      let quickchartButtonEl =\n",
              "        document.querySelector('#df-dbd55262-6089-4c95-ba34-de6eb7336c5d button');\n",
              "      quickchartButtonEl.style.display =\n",
              "        google.colab.kernel.accessAllowed ? 'block' : 'none';\n",
              "    })();\n",
              "  </script>\n",
              "</div>\n",
              "    </div>\n",
              "  </div>\n"
            ]
          },
          "metadata": {},
          "execution_count": 440
        }
      ]
    },
    {
      "cell_type": "markdown",
      "source": [
        "Gathering information about how many times a team has been in finals and how many times a team has won."
      ],
      "metadata": {
        "id": "WUBBf8EpHh5z"
      },
      "id": "WUBBf8EpHh5z"
    },
    {
      "cell_type": "code",
      "source": [
        "final_appearences.rename(columns={0: 'Team',1:\"Total_Finals\",2:\"Won\",3:\"Runner_up\"}, inplace=True)"
      ],
      "metadata": {
        "colab": {
          "base_uri": "https://localhost:8080/"
        },
        "id": "Eu9cbD9bque7",
        "outputId": "ab109944-479f-4be0-c94b-f86740d1dfbb"
      },
      "id": "Eu9cbD9bque7",
      "execution_count": 441,
      "outputs": [
        {
          "output_type": "stream",
          "name": "stderr",
          "text": [
            "<ipython-input-441-854e3098e48a>:1: SettingWithCopyWarning: \n",
            "A value is trying to be set on a copy of a slice from a DataFrame\n",
            "\n",
            "See the caveats in the documentation: https://pandas.pydata.org/pandas-docs/stable/user_guide/indexing.html#returning-a-view-versus-a-copy\n",
            "  final_appearences.rename(columns={0: 'Team',1:\"Total_Finals\",2:\"Won\",3:\"Runner_up\"}, inplace=True)\n"
          ]
        }
      ]
    },
    {
      "cell_type": "code",
      "source": [
        "#Dropping columns which are of no use\n",
        "final_appearences.drop(columns=4,inplace = True)\n",
        "final_appearences.drop(columns=5,inplace = True)"
      ],
      "metadata": {
        "colab": {
          "base_uri": "https://localhost:8080/"
        },
        "id": "_UZsz-glrWWl",
        "outputId": "35dd0fb5-ad3d-40bd-dfa6-5940457d10da"
      },
      "id": "_UZsz-glrWWl",
      "execution_count": 442,
      "outputs": [
        {
          "output_type": "stream",
          "name": "stderr",
          "text": [
            "<ipython-input-442-3bbd42fbbbe1>:2: SettingWithCopyWarning: \n",
            "A value is trying to be set on a copy of a slice from a DataFrame\n",
            "\n",
            "See the caveats in the documentation: https://pandas.pydata.org/pandas-docs/stable/user_guide/indexing.html#returning-a-view-versus-a-copy\n",
            "  final_appearences.drop(columns=4,inplace = True)\n",
            "<ipython-input-442-3bbd42fbbbe1>:3: SettingWithCopyWarning: \n",
            "A value is trying to be set on a copy of a slice from a DataFrame\n",
            "\n",
            "See the caveats in the documentation: https://pandas.pydata.org/pandas-docs/stable/user_guide/indexing.html#returning-a-view-versus-a-copy\n",
            "  final_appearences.drop(columns=5,inplace = True)\n"
          ]
        }
      ]
    },
    {
      "cell_type": "code",
      "source": [
        "final_appearences.head()"
      ],
      "metadata": {
        "colab": {
          "base_uri": "https://localhost:8080/",
          "height": 143
        },
        "id": "yz1_JLKUruqQ",
        "outputId": "69356183-9000-41b5-9acb-1ebfea4a0d01"
      },
      "id": "yz1_JLKUruqQ",
      "execution_count": 443,
      "outputs": [
        {
          "output_type": "execute_result",
          "data": {
            "text/plain": [
              "          Team Total_Finals Won Runner_up\n",
              "1    Australia            7   5         2\n",
              "3        India            3   2         1\n",
              "4  New Zealand            2   0         2"
            ],
            "text/html": [
              "\n",
              "  <div id=\"df-2ce76b78-2980-4a50-862f-f63685e9e989\" class=\"colab-df-container\">\n",
              "    <div>\n",
              "<style scoped>\n",
              "    .dataframe tbody tr th:only-of-type {\n",
              "        vertical-align: middle;\n",
              "    }\n",
              "\n",
              "    .dataframe tbody tr th {\n",
              "        vertical-align: top;\n",
              "    }\n",
              "\n",
              "    .dataframe thead th {\n",
              "        text-align: right;\n",
              "    }\n",
              "</style>\n",
              "<table border=\"1\" class=\"dataframe\">\n",
              "  <thead>\n",
              "    <tr style=\"text-align: right;\">\n",
              "      <th></th>\n",
              "      <th>Team</th>\n",
              "      <th>Total_Finals</th>\n",
              "      <th>Won</th>\n",
              "      <th>Runner_up</th>\n",
              "    </tr>\n",
              "  </thead>\n",
              "  <tbody>\n",
              "    <tr>\n",
              "      <th>1</th>\n",
              "      <td>Australia</td>\n",
              "      <td>7</td>\n",
              "      <td>5</td>\n",
              "      <td>2</td>\n",
              "    </tr>\n",
              "    <tr>\n",
              "      <th>3</th>\n",
              "      <td>India</td>\n",
              "      <td>3</td>\n",
              "      <td>2</td>\n",
              "      <td>1</td>\n",
              "    </tr>\n",
              "    <tr>\n",
              "      <th>4</th>\n",
              "      <td>New Zealand</td>\n",
              "      <td>2</td>\n",
              "      <td>0</td>\n",
              "      <td>2</td>\n",
              "    </tr>\n",
              "  </tbody>\n",
              "</table>\n",
              "</div>\n",
              "    <div class=\"colab-df-buttons\">\n",
              "\n",
              "  <div class=\"colab-df-container\">\n",
              "    <button class=\"colab-df-convert\" onclick=\"convertToInteractive('df-2ce76b78-2980-4a50-862f-f63685e9e989')\"\n",
              "            title=\"Convert this dataframe to an interactive table.\"\n",
              "            style=\"display:none;\">\n",
              "\n",
              "  <svg xmlns=\"http://www.w3.org/2000/svg\" height=\"24px\" viewBox=\"0 -960 960 960\">\n",
              "    <path d=\"M120-120v-720h720v720H120Zm60-500h600v-160H180v160Zm220 220h160v-160H400v160Zm0 220h160v-160H400v160ZM180-400h160v-160H180v160Zm440 0h160v-160H620v160ZM180-180h160v-160H180v160Zm440 0h160v-160H620v160Z\"/>\n",
              "  </svg>\n",
              "    </button>\n",
              "\n",
              "  <style>\n",
              "    .colab-df-container {\n",
              "      display:flex;\n",
              "      gap: 12px;\n",
              "    }\n",
              "\n",
              "    .colab-df-convert {\n",
              "      background-color: #E8F0FE;\n",
              "      border: none;\n",
              "      border-radius: 50%;\n",
              "      cursor: pointer;\n",
              "      display: none;\n",
              "      fill: #1967D2;\n",
              "      height: 32px;\n",
              "      padding: 0 0 0 0;\n",
              "      width: 32px;\n",
              "    }\n",
              "\n",
              "    .colab-df-convert:hover {\n",
              "      background-color: #E2EBFA;\n",
              "      box-shadow: 0px 1px 2px rgba(60, 64, 67, 0.3), 0px 1px 3px 1px rgba(60, 64, 67, 0.15);\n",
              "      fill: #174EA6;\n",
              "    }\n",
              "\n",
              "    .colab-df-buttons div {\n",
              "      margin-bottom: 4px;\n",
              "    }\n",
              "\n",
              "    [theme=dark] .colab-df-convert {\n",
              "      background-color: #3B4455;\n",
              "      fill: #D2E3FC;\n",
              "    }\n",
              "\n",
              "    [theme=dark] .colab-df-convert:hover {\n",
              "      background-color: #434B5C;\n",
              "      box-shadow: 0px 1px 3px 1px rgba(0, 0, 0, 0.15);\n",
              "      filter: drop-shadow(0px 1px 2px rgba(0, 0, 0, 0.3));\n",
              "      fill: #FFFFFF;\n",
              "    }\n",
              "  </style>\n",
              "\n",
              "    <script>\n",
              "      const buttonEl =\n",
              "        document.querySelector('#df-2ce76b78-2980-4a50-862f-f63685e9e989 button.colab-df-convert');\n",
              "      buttonEl.style.display =\n",
              "        google.colab.kernel.accessAllowed ? 'block' : 'none';\n",
              "\n",
              "      async function convertToInteractive(key) {\n",
              "        const element = document.querySelector('#df-2ce76b78-2980-4a50-862f-f63685e9e989');\n",
              "        const dataTable =\n",
              "          await google.colab.kernel.invokeFunction('convertToInteractive',\n",
              "                                                    [key], {});\n",
              "        if (!dataTable) return;\n",
              "\n",
              "        const docLinkHtml = 'Like what you see? Visit the ' +\n",
              "          '<a target=\"_blank\" href=https://colab.research.google.com/notebooks/data_table.ipynb>data table notebook</a>'\n",
              "          + ' to learn more about interactive tables.';\n",
              "        element.innerHTML = '';\n",
              "        dataTable['output_type'] = 'display_data';\n",
              "        await google.colab.output.renderOutput(dataTable, element);\n",
              "        const docLink = document.createElement('div');\n",
              "        docLink.innerHTML = docLinkHtml;\n",
              "        element.appendChild(docLink);\n",
              "      }\n",
              "    </script>\n",
              "  </div>\n",
              "\n",
              "\n",
              "<div id=\"df-17c3d376-3eca-4aad-93eb-2f3863418203\">\n",
              "  <button class=\"colab-df-quickchart\" onclick=\"quickchart('df-17c3d376-3eca-4aad-93eb-2f3863418203')\"\n",
              "            title=\"Suggest charts\"\n",
              "            style=\"display:none;\">\n",
              "\n",
              "<svg xmlns=\"http://www.w3.org/2000/svg\" height=\"24px\"viewBox=\"0 0 24 24\"\n",
              "     width=\"24px\">\n",
              "    <g>\n",
              "        <path d=\"M19 3H5c-1.1 0-2 .9-2 2v14c0 1.1.9 2 2 2h14c1.1 0 2-.9 2-2V5c0-1.1-.9-2-2-2zM9 17H7v-7h2v7zm4 0h-2V7h2v10zm4 0h-2v-4h2v4z\"/>\n",
              "    </g>\n",
              "</svg>\n",
              "  </button>\n",
              "\n",
              "<style>\n",
              "  .colab-df-quickchart {\n",
              "      --bg-color: #E8F0FE;\n",
              "      --fill-color: #1967D2;\n",
              "      --hover-bg-color: #E2EBFA;\n",
              "      --hover-fill-color: #174EA6;\n",
              "      --disabled-fill-color: #AAA;\n",
              "      --disabled-bg-color: #DDD;\n",
              "  }\n",
              "\n",
              "  [theme=dark] .colab-df-quickchart {\n",
              "      --bg-color: #3B4455;\n",
              "      --fill-color: #D2E3FC;\n",
              "      --hover-bg-color: #434B5C;\n",
              "      --hover-fill-color: #FFFFFF;\n",
              "      --disabled-bg-color: #3B4455;\n",
              "      --disabled-fill-color: #666;\n",
              "  }\n",
              "\n",
              "  .colab-df-quickchart {\n",
              "    background-color: var(--bg-color);\n",
              "    border: none;\n",
              "    border-radius: 50%;\n",
              "    cursor: pointer;\n",
              "    display: none;\n",
              "    fill: var(--fill-color);\n",
              "    height: 32px;\n",
              "    padding: 0;\n",
              "    width: 32px;\n",
              "  }\n",
              "\n",
              "  .colab-df-quickchart:hover {\n",
              "    background-color: var(--hover-bg-color);\n",
              "    box-shadow: 0 1px 2px rgba(60, 64, 67, 0.3), 0 1px 3px 1px rgba(60, 64, 67, 0.15);\n",
              "    fill: var(--button-hover-fill-color);\n",
              "  }\n",
              "\n",
              "  .colab-df-quickchart-complete:disabled,\n",
              "  .colab-df-quickchart-complete:disabled:hover {\n",
              "    background-color: var(--disabled-bg-color);\n",
              "    fill: var(--disabled-fill-color);\n",
              "    box-shadow: none;\n",
              "  }\n",
              "\n",
              "  .colab-df-spinner {\n",
              "    border: 2px solid var(--fill-color);\n",
              "    border-color: transparent;\n",
              "    border-bottom-color: var(--fill-color);\n",
              "    animation:\n",
              "      spin 1s steps(1) infinite;\n",
              "  }\n",
              "\n",
              "  @keyframes spin {\n",
              "    0% {\n",
              "      border-color: transparent;\n",
              "      border-bottom-color: var(--fill-color);\n",
              "      border-left-color: var(--fill-color);\n",
              "    }\n",
              "    20% {\n",
              "      border-color: transparent;\n",
              "      border-left-color: var(--fill-color);\n",
              "      border-top-color: var(--fill-color);\n",
              "    }\n",
              "    30% {\n",
              "      border-color: transparent;\n",
              "      border-left-color: var(--fill-color);\n",
              "      border-top-color: var(--fill-color);\n",
              "      border-right-color: var(--fill-color);\n",
              "    }\n",
              "    40% {\n",
              "      border-color: transparent;\n",
              "      border-right-color: var(--fill-color);\n",
              "      border-top-color: var(--fill-color);\n",
              "    }\n",
              "    60% {\n",
              "      border-color: transparent;\n",
              "      border-right-color: var(--fill-color);\n",
              "    }\n",
              "    80% {\n",
              "      border-color: transparent;\n",
              "      border-right-color: var(--fill-color);\n",
              "      border-bottom-color: var(--fill-color);\n",
              "    }\n",
              "    90% {\n",
              "      border-color: transparent;\n",
              "      border-bottom-color: var(--fill-color);\n",
              "    }\n",
              "  }\n",
              "</style>\n",
              "\n",
              "  <script>\n",
              "    async function quickchart(key) {\n",
              "      const quickchartButtonEl =\n",
              "        document.querySelector('#' + key + ' button');\n",
              "      quickchartButtonEl.disabled = true;  // To prevent multiple clicks.\n",
              "      quickchartButtonEl.classList.add('colab-df-spinner');\n",
              "      try {\n",
              "        const charts = await google.colab.kernel.invokeFunction(\n",
              "            'suggestCharts', [key], {});\n",
              "      } catch (error) {\n",
              "        console.error('Error during call to suggestCharts:', error);\n",
              "      }\n",
              "      quickchartButtonEl.classList.remove('colab-df-spinner');\n",
              "      quickchartButtonEl.classList.add('colab-df-quickchart-complete');\n",
              "    }\n",
              "    (() => {\n",
              "      let quickchartButtonEl =\n",
              "        document.querySelector('#df-17c3d376-3eca-4aad-93eb-2f3863418203 button');\n",
              "      quickchartButtonEl.style.display =\n",
              "        google.colab.kernel.accessAllowed ? 'block' : 'none';\n",
              "    })();\n",
              "  </script>\n",
              "</div>\n",
              "    </div>\n",
              "  </div>\n"
            ]
          },
          "metadata": {},
          "execution_count": 443
        }
      ]
    },
    {
      "cell_type": "code",
      "source": [
        "#Combining data (1) ICC Rankings (2)Final appearences\n",
        "result  = pd.merge(filtered_rankings, final_appearences, how='outer')"
      ],
      "metadata": {
        "id": "YE7npKuWk99v"
      },
      "id": "YE7npKuWk99v",
      "execution_count": 444,
      "outputs": []
    },
    {
      "cell_type": "code",
      "source": [
        "result.fillna(0)"
      ],
      "metadata": {
        "colab": {
          "base_uri": "https://localhost:8080/",
          "height": 206
        },
        "id": "stca3xqLla_K",
        "outputId": "d547aa46-abb7-40fe-9ec7-f1a4f5020330"
      },
      "id": "stca3xqLla_K",
      "execution_count": 445,
      "outputs": [
        {
          "output_type": "execute_result",
          "data": {
            "text/plain": [
              "   Pos          Team  Matches  Points  Rating Total_Finals Won Runner_up\n",
              "0    1         India       53    6421     121            3   2         1\n",
              "1    2     Australia       40    4592     115            7   5         2\n",
              "2    3  South Africa       33    3685     112            0   0         0\n",
              "3    4      Pakistan       36    3922     109            0   0         0\n",
              "4    5   New Zealand       42    4328     103            2   0         2"
            ],
            "text/html": [
              "\n",
              "  <div id=\"df-86688519-83c9-47cf-bafc-338b1836d753\" class=\"colab-df-container\">\n",
              "    <div>\n",
              "<style scoped>\n",
              "    .dataframe tbody tr th:only-of-type {\n",
              "        vertical-align: middle;\n",
              "    }\n",
              "\n",
              "    .dataframe tbody tr th {\n",
              "        vertical-align: top;\n",
              "    }\n",
              "\n",
              "    .dataframe thead th {\n",
              "        text-align: right;\n",
              "    }\n",
              "</style>\n",
              "<table border=\"1\" class=\"dataframe\">\n",
              "  <thead>\n",
              "    <tr style=\"text-align: right;\">\n",
              "      <th></th>\n",
              "      <th>Pos</th>\n",
              "      <th>Team</th>\n",
              "      <th>Matches</th>\n",
              "      <th>Points</th>\n",
              "      <th>Rating</th>\n",
              "      <th>Total_Finals</th>\n",
              "      <th>Won</th>\n",
              "      <th>Runner_up</th>\n",
              "    </tr>\n",
              "  </thead>\n",
              "  <tbody>\n",
              "    <tr>\n",
              "      <th>0</th>\n",
              "      <td>1</td>\n",
              "      <td>India</td>\n",
              "      <td>53</td>\n",
              "      <td>6421</td>\n",
              "      <td>121</td>\n",
              "      <td>3</td>\n",
              "      <td>2</td>\n",
              "      <td>1</td>\n",
              "    </tr>\n",
              "    <tr>\n",
              "      <th>1</th>\n",
              "      <td>2</td>\n",
              "      <td>Australia</td>\n",
              "      <td>40</td>\n",
              "      <td>4592</td>\n",
              "      <td>115</td>\n",
              "      <td>7</td>\n",
              "      <td>5</td>\n",
              "      <td>2</td>\n",
              "    </tr>\n",
              "    <tr>\n",
              "      <th>2</th>\n",
              "      <td>3</td>\n",
              "      <td>South Africa</td>\n",
              "      <td>33</td>\n",
              "      <td>3685</td>\n",
              "      <td>112</td>\n",
              "      <td>0</td>\n",
              "      <td>0</td>\n",
              "      <td>0</td>\n",
              "    </tr>\n",
              "    <tr>\n",
              "      <th>3</th>\n",
              "      <td>4</td>\n",
              "      <td>Pakistan</td>\n",
              "      <td>36</td>\n",
              "      <td>3922</td>\n",
              "      <td>109</td>\n",
              "      <td>0</td>\n",
              "      <td>0</td>\n",
              "      <td>0</td>\n",
              "    </tr>\n",
              "    <tr>\n",
              "      <th>4</th>\n",
              "      <td>5</td>\n",
              "      <td>New Zealand</td>\n",
              "      <td>42</td>\n",
              "      <td>4328</td>\n",
              "      <td>103</td>\n",
              "      <td>2</td>\n",
              "      <td>0</td>\n",
              "      <td>2</td>\n",
              "    </tr>\n",
              "  </tbody>\n",
              "</table>\n",
              "</div>\n",
              "    <div class=\"colab-df-buttons\">\n",
              "\n",
              "  <div class=\"colab-df-container\">\n",
              "    <button class=\"colab-df-convert\" onclick=\"convertToInteractive('df-86688519-83c9-47cf-bafc-338b1836d753')\"\n",
              "            title=\"Convert this dataframe to an interactive table.\"\n",
              "            style=\"display:none;\">\n",
              "\n",
              "  <svg xmlns=\"http://www.w3.org/2000/svg\" height=\"24px\" viewBox=\"0 -960 960 960\">\n",
              "    <path d=\"M120-120v-720h720v720H120Zm60-500h600v-160H180v160Zm220 220h160v-160H400v160Zm0 220h160v-160H400v160ZM180-400h160v-160H180v160Zm440 0h160v-160H620v160ZM180-180h160v-160H180v160Zm440 0h160v-160H620v160Z\"/>\n",
              "  </svg>\n",
              "    </button>\n",
              "\n",
              "  <style>\n",
              "    .colab-df-container {\n",
              "      display:flex;\n",
              "      gap: 12px;\n",
              "    }\n",
              "\n",
              "    .colab-df-convert {\n",
              "      background-color: #E8F0FE;\n",
              "      border: none;\n",
              "      border-radius: 50%;\n",
              "      cursor: pointer;\n",
              "      display: none;\n",
              "      fill: #1967D2;\n",
              "      height: 32px;\n",
              "      padding: 0 0 0 0;\n",
              "      width: 32px;\n",
              "    }\n",
              "\n",
              "    .colab-df-convert:hover {\n",
              "      background-color: #E2EBFA;\n",
              "      box-shadow: 0px 1px 2px rgba(60, 64, 67, 0.3), 0px 1px 3px 1px rgba(60, 64, 67, 0.15);\n",
              "      fill: #174EA6;\n",
              "    }\n",
              "\n",
              "    .colab-df-buttons div {\n",
              "      margin-bottom: 4px;\n",
              "    }\n",
              "\n",
              "    [theme=dark] .colab-df-convert {\n",
              "      background-color: #3B4455;\n",
              "      fill: #D2E3FC;\n",
              "    }\n",
              "\n",
              "    [theme=dark] .colab-df-convert:hover {\n",
              "      background-color: #434B5C;\n",
              "      box-shadow: 0px 1px 3px 1px rgba(0, 0, 0, 0.15);\n",
              "      filter: drop-shadow(0px 1px 2px rgba(0, 0, 0, 0.3));\n",
              "      fill: #FFFFFF;\n",
              "    }\n",
              "  </style>\n",
              "\n",
              "    <script>\n",
              "      const buttonEl =\n",
              "        document.querySelector('#df-86688519-83c9-47cf-bafc-338b1836d753 button.colab-df-convert');\n",
              "      buttonEl.style.display =\n",
              "        google.colab.kernel.accessAllowed ? 'block' : 'none';\n",
              "\n",
              "      async function convertToInteractive(key) {\n",
              "        const element = document.querySelector('#df-86688519-83c9-47cf-bafc-338b1836d753');\n",
              "        const dataTable =\n",
              "          await google.colab.kernel.invokeFunction('convertToInteractive',\n",
              "                                                    [key], {});\n",
              "        if (!dataTable) return;\n",
              "\n",
              "        const docLinkHtml = 'Like what you see? Visit the ' +\n",
              "          '<a target=\"_blank\" href=https://colab.research.google.com/notebooks/data_table.ipynb>data table notebook</a>'\n",
              "          + ' to learn more about interactive tables.';\n",
              "        element.innerHTML = '';\n",
              "        dataTable['output_type'] = 'display_data';\n",
              "        await google.colab.output.renderOutput(dataTable, element);\n",
              "        const docLink = document.createElement('div');\n",
              "        docLink.innerHTML = docLinkHtml;\n",
              "        element.appendChild(docLink);\n",
              "      }\n",
              "    </script>\n",
              "  </div>\n",
              "\n",
              "\n",
              "<div id=\"df-cff13a44-f1a9-4bca-8759-5267a47c0a37\">\n",
              "  <button class=\"colab-df-quickchart\" onclick=\"quickchart('df-cff13a44-f1a9-4bca-8759-5267a47c0a37')\"\n",
              "            title=\"Suggest charts\"\n",
              "            style=\"display:none;\">\n",
              "\n",
              "<svg xmlns=\"http://www.w3.org/2000/svg\" height=\"24px\"viewBox=\"0 0 24 24\"\n",
              "     width=\"24px\">\n",
              "    <g>\n",
              "        <path d=\"M19 3H5c-1.1 0-2 .9-2 2v14c0 1.1.9 2 2 2h14c1.1 0 2-.9 2-2V5c0-1.1-.9-2-2-2zM9 17H7v-7h2v7zm4 0h-2V7h2v10zm4 0h-2v-4h2v4z\"/>\n",
              "    </g>\n",
              "</svg>\n",
              "  </button>\n",
              "\n",
              "<style>\n",
              "  .colab-df-quickchart {\n",
              "      --bg-color: #E8F0FE;\n",
              "      --fill-color: #1967D2;\n",
              "      --hover-bg-color: #E2EBFA;\n",
              "      --hover-fill-color: #174EA6;\n",
              "      --disabled-fill-color: #AAA;\n",
              "      --disabled-bg-color: #DDD;\n",
              "  }\n",
              "\n",
              "  [theme=dark] .colab-df-quickchart {\n",
              "      --bg-color: #3B4455;\n",
              "      --fill-color: #D2E3FC;\n",
              "      --hover-bg-color: #434B5C;\n",
              "      --hover-fill-color: #FFFFFF;\n",
              "      --disabled-bg-color: #3B4455;\n",
              "      --disabled-fill-color: #666;\n",
              "  }\n",
              "\n",
              "  .colab-df-quickchart {\n",
              "    background-color: var(--bg-color);\n",
              "    border: none;\n",
              "    border-radius: 50%;\n",
              "    cursor: pointer;\n",
              "    display: none;\n",
              "    fill: var(--fill-color);\n",
              "    height: 32px;\n",
              "    padding: 0;\n",
              "    width: 32px;\n",
              "  }\n",
              "\n",
              "  .colab-df-quickchart:hover {\n",
              "    background-color: var(--hover-bg-color);\n",
              "    box-shadow: 0 1px 2px rgba(60, 64, 67, 0.3), 0 1px 3px 1px rgba(60, 64, 67, 0.15);\n",
              "    fill: var(--button-hover-fill-color);\n",
              "  }\n",
              "\n",
              "  .colab-df-quickchart-complete:disabled,\n",
              "  .colab-df-quickchart-complete:disabled:hover {\n",
              "    background-color: var(--disabled-bg-color);\n",
              "    fill: var(--disabled-fill-color);\n",
              "    box-shadow: none;\n",
              "  }\n",
              "\n",
              "  .colab-df-spinner {\n",
              "    border: 2px solid var(--fill-color);\n",
              "    border-color: transparent;\n",
              "    border-bottom-color: var(--fill-color);\n",
              "    animation:\n",
              "      spin 1s steps(1) infinite;\n",
              "  }\n",
              "\n",
              "  @keyframes spin {\n",
              "    0% {\n",
              "      border-color: transparent;\n",
              "      border-bottom-color: var(--fill-color);\n",
              "      border-left-color: var(--fill-color);\n",
              "    }\n",
              "    20% {\n",
              "      border-color: transparent;\n",
              "      border-left-color: var(--fill-color);\n",
              "      border-top-color: var(--fill-color);\n",
              "    }\n",
              "    30% {\n",
              "      border-color: transparent;\n",
              "      border-left-color: var(--fill-color);\n",
              "      border-top-color: var(--fill-color);\n",
              "      border-right-color: var(--fill-color);\n",
              "    }\n",
              "    40% {\n",
              "      border-color: transparent;\n",
              "      border-right-color: var(--fill-color);\n",
              "      border-top-color: var(--fill-color);\n",
              "    }\n",
              "    60% {\n",
              "      border-color: transparent;\n",
              "      border-right-color: var(--fill-color);\n",
              "    }\n",
              "    80% {\n",
              "      border-color: transparent;\n",
              "      border-right-color: var(--fill-color);\n",
              "      border-bottom-color: var(--fill-color);\n",
              "    }\n",
              "    90% {\n",
              "      border-color: transparent;\n",
              "      border-bottom-color: var(--fill-color);\n",
              "    }\n",
              "  }\n",
              "</style>\n",
              "\n",
              "  <script>\n",
              "    async function quickchart(key) {\n",
              "      const quickchartButtonEl =\n",
              "        document.querySelector('#' + key + ' button');\n",
              "      quickchartButtonEl.disabled = true;  // To prevent multiple clicks.\n",
              "      quickchartButtonEl.classList.add('colab-df-spinner');\n",
              "      try {\n",
              "        const charts = await google.colab.kernel.invokeFunction(\n",
              "            'suggestCharts', [key], {});\n",
              "      } catch (error) {\n",
              "        console.error('Error during call to suggestCharts:', error);\n",
              "      }\n",
              "      quickchartButtonEl.classList.remove('colab-df-spinner');\n",
              "      quickchartButtonEl.classList.add('colab-df-quickchart-complete');\n",
              "    }\n",
              "    (() => {\n",
              "      let quickchartButtonEl =\n",
              "        document.querySelector('#df-cff13a44-f1a9-4bca-8759-5267a47c0a37 button');\n",
              "      quickchartButtonEl.style.display =\n",
              "        google.colab.kernel.accessAllowed ? 'block' : 'none';\n",
              "    })();\n",
              "  </script>\n",
              "</div>\n",
              "    </div>\n",
              "  </div>\n"
            ]
          },
          "metadata": {},
          "execution_count": 445
        }
      ]
    },
    {
      "cell_type": "code",
      "source": [
        "result['Total_Finals'] = result['Total_Finals'].fillna(0).astype(int)"
      ],
      "metadata": {
        "id": "4dG2FPBLjelH"
      },
      "id": "4dG2FPBLjelH",
      "execution_count": 446,
      "outputs": []
    },
    {
      "cell_type": "code",
      "source": [
        "#Scatter plot for matches played and points gained (with respect to ICC rankings)\n",
        "#example India has played most matches and have won most matches so India has more points\n",
        "plt.figure(figsize=(10, 6))\n",
        "sns.scatterplot(x='Matches', y='Points', data=result, hue='Team')\n",
        "plt.title('Matches vs. Points')\n",
        "plt.xlabel('Matches Played')\n",
        "plt.ylabel('Total Points')\n",
        "plt.legend()\n",
        "plt.show()"
      ],
      "metadata": {
        "colab": {
          "base_uri": "https://localhost:8080/",
          "height": 564
        },
        "id": "P0F0b21LP4On",
        "outputId": "2563650a-967d-4d7a-f5ae-72b07596a188"
      },
      "id": "P0F0b21LP4On",
      "execution_count": 484,
      "outputs": [
        {
          "output_type": "display_data",
          "data": {
            "text/plain": [
              "<Figure size 1000x600 with 1 Axes>"
            ],
            "image/png": "[encoded data removed]"
          },
          "metadata": {}
        }
      ]
    },
    {
      "cell_type": "code",
      "source": [
        "# Final appearences of each team\n",
        "top_finals_teams = result.nlargest(5, 'Total_Finals')[['Team', 'Total_Finals']]\n",
        "plt.figure(figsize=(10, 6))\n",
        "sns.barplot(x='Total_Finals', y='Team', data=top_finals_teams)\n",
        "plt.title('Top Teams in Finals')\n",
        "plt.xlabel('Total Finals')\n",
        "plt.ylabel('Team')\n",
        "plt.show()"
      ],
      "metadata": {
        "colab": {
          "base_uri": "https://localhost:8080/",
          "height": 564
        },
        "id": "-7fCZZm6QOz3",
        "outputId": "23c655c3-e31f-40ed-b23a-c28fa6a39077"
      },
      "id": "-7fCZZm6QOz3",
      "execution_count": 485,
      "outputs": [
        {
          "output_type": "display_data",
          "data": {
            "text/plain": [
              "<Figure size 1000x600 with 1 Axes>"
            ],
            "image/png": "[encoded data removed]"
          },
          "metadata": {}
        }
      ]
    },
    {
      "cell_type": "code",
      "source": [
        "odi_data['Winner'] = odi_data_all['Winner']"
      ],
      "metadata": {
        "id": "jZG60Z2nug83"
      },
      "id": "jZG60Z2nug83",
      "execution_count": 447,
      "outputs": []
    },
    {
      "cell_type": "code",
      "source": [
        "odi_data"
      ],
      "metadata": {
        "id": "lzJabI6vup1b"
      },
      "id": "lzJabI6vup1b",
      "execution_count": null,
      "outputs": []
    },
    {
      "cell_type": "code",
      "source": [
        "final = pd.get_dummies(odi_data, prefix=['Team_A', 'Team_B'], columns=['Team_A', 'Team_B'])"
      ],
      "metadata": {
        "id": "8XvC2DFrqBKR"
      },
      "id": "8XvC2DFrqBKR",
      "execution_count": 449,
      "outputs": []
    },
    {
      "cell_type": "code",
      "source": [
        "final"
      ],
      "metadata": {
        "id": "16NTzjicp6oE"
      },
      "id": "16NTzjicp6oE",
      "execution_count": null,
      "outputs": []
    },
    {
      "cell_type": "code",
      "source": [
        "#Splitting data\n",
        "X = final.drop(['Winner'], axis=1)\n",
        "y = final[\"Winner\"]\n",
        "# Separate train and test sets\n",
        "X_train, X_test, y_train, y_test = train_test_split(X, y, test_size=0.30, random_state=42)"
      ],
      "metadata": {
        "id": "I65f-GLRs4Ox"
      },
      "id": "I65f-GLRs4Ox",
      "execution_count": 451,
      "outputs": []
    },
    {
      "cell_type": "code",
      "source": [
        "#Training our model using Random Forest\n",
        "rf = RandomForestClassifier(n_estimators=300, max_depth=5,random_state=0)\n",
        "rf.fit(X_train, y_train)\n",
        "score = rf.score(X_train, y_train)\n",
        "score2 = rf.score(X_test, y_test)\n",
        "print(\"Training set accuracy: \", '%.3f'%(score))\n",
        "print(\"Test set accuracy: \", '%.3f'%(score2))"
      ],
      "metadata": {
        "colab": {
          "base_uri": "https://localhost:8080/"
        },
        "id": "BK5cniyhs8Vq",
        "outputId": "838f93f9-fc43-49c7-aaa2-2189449353b6"
      },
      "id": "BK5cniyhs8Vq",
      "execution_count": 452,
      "outputs": [
        {
          "output_type": "stream",
          "name": "stdout",
          "text": [
            "Training set accuracy:  0.811\n",
            "Test set accuracy:  0.718\n"
          ]
        }
      ]
    },
    {
      "cell_type": "code",
      "source": [
        "#Training our model using SGDClassifier\n",
        "scaler = StandardScaler()\n",
        "X_train = scaler.fit_transform(X_train)\n",
        "X_test = scaler.transform(X_test)\n",
        "sgd_classifier = SGDClassifier(loss='log_loss', max_iter=40, random_state=42)\n",
        "\n",
        "sgd_classifier.fit(X_train, y_train)\n",
        "\n",
        "predictions = sgd_classifier.predict(X_test)\n",
        "\n",
        "accuracy = accuracy_score(y_test, predictions)\n",
        "print(\"Test Accuracy:\", accuracy)"
      ],
      "metadata": {
        "colab": {
          "base_uri": "https://localhost:8080/"
        },
        "id": "BLCsLHOcvFb1",
        "outputId": "46f2ec93-c7e2-499b-a517-a5c77a0777cd"
      },
      "id": "BLCsLHOcvFb1",
      "execution_count": 453,
      "outputs": [
        {
          "output_type": "stream",
          "name": "stdout",
          "text": [
            "Test Accuracy: 0.5641025641025641\n"
          ]
        }
      ]
    },
    {
      "cell_type": "code",
      "source": [
        "#Training our model using CNN\n",
        "X_train, X_test, y_train, y_test = train_test_split(X, y, test_size=0.3, random_state=42)\n",
        "# Standardize numeric features\n",
        "scaler = StandardScaler()\n",
        "X_train = scaler.fit_transform(X_train)\n",
        "X_test = scaler.transform(X_test)\n",
        "\n",
        "# Encoding data\n",
        "label_encoder = LabelEncoder()\n",
        "y_train_encoded = label_encoder.fit_transform(y_train)\n",
        "y_test_encoded = label_encoder.transform(y_test)\n",
        "\n",
        "# Input layer for numeric features\n",
        "input_layer = Input(shape=(X_train.shape[1],), name='numeric_input')\n",
        "\n",
        "# 2 dense layers with 64 and 32 neurons each respectively\n",
        "dense1 = Dense(64, activation='relu')(input_layer)\n",
        "dense2 = Dense(32, activation='relu')(dense1)\n",
        "\n",
        "# Output layer for classification\n",
        "output_layer = Dense(len(label_encoder.classes_), activation='softmax', name='output')(dense2)\n",
        "\n",
        "model = Model(inputs=input_layer, outputs=output_layer)\n",
        "\n",
        "model.compile(optimizer='adam', loss='sparse_categorical_crossentropy', metrics=['accuracy'])\n",
        "\n",
        "# Training the model\n",
        "model.fit(X_train, y_train_encoded, epochs=10, batch_size=32, validation_data=(X_test, y_test_encoded))\n",
        "model.save('CWC_CNN.h5')\n",
        "\n",
        "score = model.evaluate(X_test, y_test_encoded)\n",
        "print(\"Test Loss:\", score[0])\n",
        "print(\"Test Accuracy:\", score[1])\n"
      ],
      "metadata": {
        "colab": {
          "base_uri": "https://localhost:8080/"
        },
        "id": "_kbEjufVwZnG",
        "outputId": "00145d1a-350d-4944-80ce-29de2ec7e845"
      },
      "id": "_kbEjufVwZnG",
      "execution_count": 454,
      "outputs": [
        {
          "output_type": "stream",
          "name": "stdout",
          "text": [
            "Epoch 1/10\n",
            "3/3 [==============================] - 1s 113ms/step - loss: 1.6383 - accuracy: 0.2889 - val_loss: 1.5537 - val_accuracy: 0.4359\n",
            "Epoch 2/10\n",
            "3/3 [==============================] - 0s 22ms/step - loss: 1.5622 - accuracy: 0.3667 - val_loss: 1.4878 - val_accuracy: 0.4615\n",
            "Epoch 3/10\n",
            "3/3 [==============================] - 0s 22ms/step - loss: 1.4987 - accuracy: 0.4111 - val_loss: 1.4282 - val_accuracy: 0.4872\n",
            "Epoch 4/10\n",
            "3/3 [==============================] - 0s 22ms/step - loss: 1.4388 - accuracy: 0.5333 - val_loss: 1.3753 - val_accuracy: 0.5385\n",
            "Epoch 5/10\n",
            "3/3 [==============================] - 0s 33ms/step - loss: 1.3859 - accuracy: 0.5667 - val_loss: 1.3271 - val_accuracy: 0.5385\n",
            "Epoch 6/10\n",
            "3/3 [==============================] - 0s 27ms/step - loss: 1.3388 - accuracy: 0.5444 - val_loss: 1.2812 - val_accuracy: 0.5641\n",
            "Epoch 7/10\n",
            "3/3 [==============================] - 0s 28ms/step - loss: 1.2930 - accuracy: 0.5556 - val_loss: 1.2366 - val_accuracy: 0.5641\n",
            "Epoch 8/10\n",
            "3/3 [==============================] - 0s 21ms/step - loss: 1.2520 - accuracy: 0.5556 - val_loss: 1.1941 - val_accuracy: 0.5897\n",
            "Epoch 9/10\n",
            "3/3 [==============================] - 0s 20ms/step - loss: 1.2123 - accuracy: 0.5667 - val_loss: 1.1544 - val_accuracy: 0.5897\n",
            "Epoch 10/10\n",
            "3/3 [==============================] - 0s 29ms/step - loss: 1.1747 - accuracy: 0.6111 - val_loss: 1.1192 - val_accuracy: 0.5897\n",
            "2/2 [==============================] - 0s 8ms/step - loss: 1.1192 - accuracy: 0.5897\n",
            "Test Loss: 1.1191545724868774\n",
            "Test Accuracy: 0.5897436141967773\n"
          ]
        },
        {
          "output_type": "stream",
          "name": "stderr",
          "text": [
            "/usr/local/lib/python3.10/dist-packages/keras/src/engine/training.py:3079: UserWarning: You are saving your model as an HDF5 file via `model.save()`. This file format is considered legacy. We recommend using instead the native Keras format, e.g. `model.save('my_model.keras')`.\n",
            "  saving_api.save_model(\n"
          ]
        }
      ]
    },
    {
      "cell_type": "code",
      "source": [
        "#Function to predict which team will win based on provided 2 teams\n",
        "#matches = Team1 vs Team2\n",
        "#filtered_rankings = combined ICC rankings and final_appearences\n",
        "#Final is the dataset used for training\n",
        "#logreg = model to be used\n",
        "def predictt(matches, filtered_rankings, final, logreg):\n",
        "\n",
        "    # Variables for ICC ranking position and wins out of total appearneces of finals\n",
        "    positions = []\n",
        "    winn = []\n",
        "    # Loop to retrieve each team's position and wins according to ICC ranking and final_appearences respectively\n",
        "    for match in matches:\n",
        "        positions.append(filtered_rankings.loc[filtered_rankings['Team'] == match[0],'Pos'].iloc[0])\n",
        "        positions.append(filtered_rankings.loc[filtered_rankings['Team'] == match[1],'Pos'].iloc[0])\n",
        "        winn.append(filtered_rankings.loc[filtered_rankings['Team'] == match[0],'Total_Finals'].iloc[0])\n",
        "        winn.append(filtered_rankings.loc[filtered_rankings['Team'] == match[1],'Total_Finals'].iloc[0])\n",
        "\n",
        "    # Creating the variable for prediction\n",
        "    pred_set = []\n",
        "\n",
        "    i = 0\n",
        "    j = 0\n",
        "\n",
        "    # 'i' will iterate the 'positions' and 'wins' list, and 'j' for the list of matches (list of tuples)\n",
        "    while i < len(positions):\n",
        "        dict1 = {}\n",
        "\n",
        "        # If position and win record of first team is better then this team will be the 'Team_1' team, and vice-versa\n",
        "        if positions[i] < positions[i + 1] and winn[i] > winn[i+1]:\n",
        "            dict1.update({'Team_A': matches[j][0], 'Team_B': matches[j][1]})\n",
        "        else:\n",
        "            dict1.update({'Team_A': matches[j][1], 'Team_B': matches[j][0]})\n",
        "\n",
        "        # Append updated dictionary to the list\n",
        "        pred_set.append(dict1)\n",
        "        i += 2\n",
        "        j += 1\n",
        "\n",
        "        # Convert list into DataFrame\n",
        "    pred_set = pd.DataFrame(pred_set)\n",
        "    backup_pred_set = pred_set\n",
        "\n",
        "    pred_set = pd.get_dummies(pred_set, prefix=['Team_A', 'Team_B'], columns=['Team_A', 'Team_B'])\n",
        "\n",
        "    # Add missing columns compared to the model's training dataset\n",
        "    missing_cols2 = set(final.columns) - set(pred_set.columns)\n",
        "    for c in missing_cols2:\n",
        "        pred_set[c] = 0\n",
        "    pred_set = pred_set[final.columns]\n",
        "\n",
        "    pred_set = pred_set.drop(['Winner'], axis=1)\n",
        "\n",
        "    # Predict!\n",
        "    predictions = logreg.predict(pred_set)\n",
        "    for i in range(len(pred_set)):\n",
        "        print(backup_pred_set.iloc[i, 1] + \" and \" + backup_pred_set.iloc[i, 0])\n",
        "        if predictions[i] == 1:\n",
        "            print(\"Winner: \" + backup_pred_set.iloc[i, 1])\n",
        "        else:\n",
        "            print(\"Winner: \" + backup_pred_set.iloc[i, 0])\n",
        "        print(\"\")"
      ],
      "metadata": {
        "id": "zvmiJ8t2jZ3D"
      },
      "id": "zvmiJ8t2jZ3D",
      "execution_count": 181,
      "outputs": []
    },
    {
      "cell_type": "code",
      "source": [
        "#The semi finalist teams\n",
        "semi = [('India','New Zealand'),\n",
        "            ('Australia', 'South Africa')]"
      ],
      "metadata": {
        "id": "eIxN6RwNkjdE"
      },
      "id": "eIxN6RwNkjdE",
      "execution_count": 182,
      "outputs": []
    },
    {
      "cell_type": "code",
      "source": [
        "#Our predictions for semifinal winners using Random Forest\n",
        "predictt(semi, result, final, rf)"
      ],
      "metadata": {
        "id": "2nVwUFN9kqCw",
        "colab": {
          "base_uri": "https://localhost:8080/"
        },
        "outputId": "51f8a23b-5bda-46fa-80ce-d894c0fd6453"
      },
      "id": "2nVwUFN9kqCw",
      "execution_count": 183,
      "outputs": [
        {
          "output_type": "stream",
          "name": "stdout",
          "text": [
            "New Zealand and India\n",
            "Winner: India\n",
            "\n",
            "South Africa and Australia\n",
            "Winner: Australia\n",
            "\n"
          ]
        }
      ]
    },
    {
      "cell_type": "markdown",
      "source": [
        "Task 2"
      ],
      "metadata": {
        "id": "8O_cm4nGUMSF"
      },
      "id": "8O_cm4nGUMSF"
    },
    {
      "cell_type": "code",
      "source": [
        "#Our prediction on Finals winner using Random Classifier\n",
        "#Task 2\n",
        "finals = [('India', 'Australia')]\n",
        "predictt(finals, result, final, rf)"
      ],
      "metadata": {
        "colab": {
          "base_uri": "https://localhost:8080/"
        },
        "id": "twqU6YAifTeE",
        "outputId": "6c7884d0-df68-4f29-8ae4-27d5f2df4ee1"
      },
      "id": "twqU6YAifTeE",
      "execution_count": 184,
      "outputs": [
        {
          "output_type": "stream",
          "name": "stdout",
          "text": [
            "India and Australia\n",
            "Winner: Australia\n",
            "\n"
          ]
        }
      ]
    },
    {
      "cell_type": "markdown",
      "source": [
        "Task 3"
      ],
      "metadata": {
        "id": "_j87iXSKUJym"
      },
      "id": "_j87iXSKUJym"
    },
    {
      "cell_type": "code",
      "source": [
        "#Our predictions for semifinal winners using SGD Classifier\n",
        "predictt(semi, result, final, sgd_classifier)"
      ],
      "metadata": {
        "colab": {
          "base_uri": "https://localhost:8080/"
        },
        "id": "gJ-eUwNhffcv",
        "outputId": "7ab6e451-1075-440b-82b0-040115bb497f"
      },
      "id": "gJ-eUwNhffcv",
      "execution_count": 185,
      "outputs": [
        {
          "output_type": "stream",
          "name": "stdout",
          "text": [
            "New Zealand and India\n",
            "Winner: India\n",
            "\n",
            "South Africa and Australia\n",
            "Winner: Australia\n",
            "\n"
          ]
        },
        {
          "output_type": "stream",
          "name": "stderr",
          "text": [
            "/usr/local/lib/python3.10/dist-packages/sklearn/base.py:432: UserWarning: X has feature names, but SGDClassifier was fitted without feature names\n",
            "  warnings.warn(\n"
          ]
        }
      ]
    },
    {
      "cell_type": "markdown",
      "source": [
        "Task 2"
      ],
      "metadata": {
        "id": "_Cgh9_TNUOjX"
      },
      "id": "_Cgh9_TNUOjX"
    },
    {
      "cell_type": "code",
      "source": [
        "#Our prediction on Finals winner using SGD\n",
        "\n",
        "#Task 3\n",
        "predictt(finals, result, final, sgd_classifier)"
      ],
      "metadata": {
        "colab": {
          "base_uri": "https://localhost:8080/"
        },
        "id": "UBi8Ka8-gT4p",
        "outputId": "b90b89f0-87ae-4f1c-be70-172fe819ae8f"
      },
      "id": "UBi8Ka8-gT4p",
      "execution_count": 186,
      "outputs": [
        {
          "output_type": "stream",
          "name": "stdout",
          "text": [
            "India and Australia\n",
            "Winner: Australia\n",
            "\n"
          ]
        },
        {
          "output_type": "stream",
          "name": "stderr",
          "text": [
            "/usr/local/lib/python3.10/dist-packages/sklearn/base.py:432: UserWarning: X has feature names, but SGDClassifier was fitted without feature names\n",
            "  warnings.warn(\n"
          ]
        }
      ]
    },
    {
      "cell_type": "markdown",
      "source": [
        "Task 3"
      ],
      "metadata": {
        "id": "hajvh60ST9ZA"
      },
      "id": "hajvh60ST9ZA"
    },
    {
      "cell_type": "code",
      "source": [
        "#TASK 2"
      ],
      "metadata": {
        "id": "SIX08xFeLQVu"
      },
      "id": "SIX08xFeLQVu",
      "execution_count": null,
      "outputs": []
    },
    {
      "cell_type": "markdown",
      "source": [
        "Task 2 Predicting playing 11 of our predicted finalist teams"
      ],
      "metadata": {
        "id": "RfzO3RvOLQ-B"
      },
      "id": "RfzO3RvOLQ-B"
    },
    {
      "cell_type": "code",
      "source": [
        "#General function to convert datatype to int or float\n",
        "def convert_columns_to_numeric(combined_data):\n",
        "\n",
        "    combined_data['Inns_x'] = pd.to_numeric(combined_data['Inns_x'], errors='coerce')\n",
        "    combined_data['Ave_x'] = pd.to_numeric(combined_data['Ave_x'], errors='coerce')\n",
        "\n",
        "\n",
        "    combined_data['HS'] = pd.to_numeric(combined_data['HS'], errors='coerce')\n",
        "    combined_data['Ave_y'] = pd.to_numeric(combined_data['Ave_y'], errors='coerce')\n",
        "    combined_data['Econ'] = pd.to_numeric(combined_data['Econ'], errors='coerce')\n",
        "    combined_data['SR_y'] = pd.to_numeric(combined_data['SR_y'], errors='coerce')\n",
        "    combined_data['Ct'] = pd.to_numeric(combined_data['Ct'], errors='coerce')\n",
        "\n",
        "\n",
        "    combined_data['Inns_x'] = combined_data['Inns_x'].fillna(0).astype(int)\n",
        "    combined_data['HS'] = combined_data['HS'].fillna(0).astype(int)\n",
        "    combined_data['Ct'] = combined_data['Ct'].fillna(0).astype(int)\n",
        "\n",
        "\n",
        "    combined_data['Ave_x'] = combined_data['Ave_x'].fillna(0.0).astype(float)\n",
        "    combined_data['Ave_y'] = combined_data['Ave_y'].fillna(0.0).astype(float)\n",
        "    combined_data['Econ'] = combined_data['Econ'].fillna(0.0).astype(float)\n",
        "    combined_data['SR_y'] = combined_data['SR_y'].fillna(0.0).astype(float)"
      ],
      "metadata": {
        "id": "gq7hspSoCNmB"
      },
      "id": "gq7hspSoCNmB",
      "execution_count": 374,
      "outputs": []
    },
    {
      "cell_type": "code",
      "source": [
        "#Model for predicting playing 11\n",
        "def predd(df):\n",
        "    # Features for prediction\n",
        "    batting_features = ['Mat_x', 'Inns_x', 'NO', 'Runs', 'HS', 'Ave_x', 'SR_x']\n",
        "    bowling_features = ['Mat_y', 'Inns_y', 'Overs', 'Wkts', 'Ave_y', 'Econ', 'SR_y', 'prev_match']\n",
        "\n",
        "    # Fill missing values if any\n",
        "    df['Mat_y'] = df['Mat_y'].fillna(0)\n",
        "    df = df.fillna(0)\n",
        "\n",
        "    # Standardize the features\n",
        "    scaler = StandardScaler()\n",
        "    X_scaled = scaler.fit_transform(df[batting_features + bowling_features].drop(['prev_match'], axis=1))\n",
        "\n",
        "    # Using Sequential CNN Model\n",
        "    model = Sequential()\n",
        "    model.add(Dense(64, activation='relu', input_shape=(len(batting_features) + len(bowling_features) - 1,)))\n",
        "    model.add(Dense(32, activation='relu'))\n",
        "    model.add(Dense(1, activation='sigmoid'))  # Output layer for probability prediction\n",
        "\n",
        "    model.compile(optimizer='adam', loss='binary_crossentropy', metrics=['accuracy'])\n",
        "\n",
        "    # Training the model\n",
        "    model.fit(X_scaled, df['prev_match'], epochs=10, batch_size=4)\n",
        "\n",
        "    # Using the model to predict the probability of playing in the next match\n",
        "    predictions = model.predict(X_scaled)\n",
        "\n",
        "    # Add the predicted probability to the DataFrame\n",
        "    df['Predicted_Probability'] = predictions.flatten()\n",
        "    df_sorted = df.sort_values(by='Predicted_Probability', ascending=False)\n",
        "\n",
        "    return df_sorted[['Player', 'Predicted_Probability']]"
      ],
      "metadata": {
        "id": "vucLQTkbDfHb"
      },
      "id": "vucLQTkbDfHb",
      "execution_count": 389,
      "outputs": []
    },
    {
      "cell_type": "code",
      "source": [
        "#General function to retrieve information about batsman of each team\n",
        "def batting(url):\n",
        "  all_table = pd.read_html(url)\n",
        "  df =all_table[0]\n",
        "  return df"
      ],
      "metadata": {
        "id": "Qs3hkuHWBFUZ"
      },
      "id": "Qs3hkuHWBFUZ",
      "execution_count": 349,
      "outputs": []
    },
    {
      "cell_type": "code",
      "source": [
        "Indian_player_Batsman = batting(\"https://www.espncricinfo.com/records/tournament/averages-batting-bowling-by-team/icc-cricket-world-cup-2023-24-15338?team=6\")"
      ],
      "metadata": {
        "id": "x_gUgW6-N5qC"
      },
      "id": "x_gUgW6-N5qC",
      "execution_count": 364,
      "outputs": []
    },
    {
      "cell_type": "code",
      "source": [
        "drop_colss = ['100' ,\t'50' ,\t'0', \t'4s' ,\t'6s','BF']"
      ],
      "metadata": {
        "id": "tyHhAsofSPOe"
      },
      "id": "tyHhAsofSPOe",
      "execution_count": 365,
      "outputs": []
    },
    {
      "cell_type": "code",
      "source": [
        "Indian_player_Batsman.drop(columns = drop_colss,inplace = True)"
      ],
      "metadata": {
        "id": "uoBmuBjqR1x3"
      },
      "id": "uoBmuBjqR1x3",
      "execution_count": 366,
      "outputs": []
    },
    {
      "cell_type": "code",
      "source": [
        "Indian_player_Batsman.replace('-', 0, inplace=True)\n",
        "Indian_player_Batsman.dropna(inplace=True)"
      ],
      "metadata": {
        "id": "SfYFapmqTGJo"
      },
      "id": "SfYFapmqTGJo",
      "execution_count": 367,
      "outputs": []
    },
    {
      "cell_type": "code",
      "source": [
        "dropss = ['5','10','St','Mdns','Span','Runs','BBI']"
      ],
      "metadata": {
        "id": "MefVOiVzBf7n"
      },
      "id": "MefVOiVzBf7n",
      "execution_count": 368,
      "outputs": []
    },
    {
      "cell_type": "code",
      "source": [
        "Indian_player_Bowling = pd.read_html(\"https://www.espncricinfo.com/records/tournament/averages-batting-bowling-by-team/icc-cricket-world-cup-2023-24-15338?team=6\")\n",
        "Indian_player_Bowling = Indian_player_Bowling[1]"
      ],
      "metadata": {
        "id": "ZO_-wz8RRPk-"
      },
      "id": "ZO_-wz8RRPk-",
      "execution_count": 369,
      "outputs": []
    },
    {
      "cell_type": "code",
      "source": [
        "Indian_player_Bowling.drop(columns = dropss,inplace = True)"
      ],
      "metadata": {
        "id": "NKy7S6XzUryx"
      },
      "id": "NKy7S6XzUryx",
      "execution_count": 370,
      "outputs": []
    },
    {
      "cell_type": "code",
      "source": [
        "Indian_player_Bowling.replace('-',0,inplace = True)"
      ],
      "metadata": {
        "id": "FtfWN6hGBu1A"
      },
      "id": "FtfWN6hGBu1A",
      "execution_count": 371,
      "outputs": []
    },
    {
      "cell_type": "code",
      "source": [
        "India_11_combined = pd.merge(Indian_player_Batsman, Indian_player_Bowling, on='Player', how='outer')"
      ],
      "metadata": {
        "id": "tQItbj52Bx7U"
      },
      "id": "tQItbj52Bx7U",
      "execution_count": 372,
      "outputs": []
    },
    {
      "cell_type": "code",
      "source": [
        "convert_columns_to_numeric(India_11_combined)"
      ],
      "metadata": {
        "id": "rndQFdZFCHgZ"
      },
      "id": "rndQFdZFCHgZ",
      "execution_count": 375,
      "outputs": []
    },
    {
      "cell_type": "code",
      "source": [
        "India_11_combined.to_csv(\"India_11.csv\")"
      ],
      "metadata": {
        "id": "2x9BfubUCrWK"
      },
      "id": "2x9BfubUCrWK",
      "execution_count": 378,
      "outputs": []
    },
    {
      "cell_type": "code",
      "source": [
        "#We have added one more feature manually that which player played last match\n",
        "India_11 = pd.read_csv(\"/content/India_11.csv\")"
      ],
      "metadata": {
        "id": "R9IyTMH8C1gL"
      },
      "id": "R9IyTMH8C1gL",
      "execution_count": 383,
      "outputs": []
    },
    {
      "cell_type": "code",
      "source": [
        "India_11.drop(columns = 'Unnamed: 0',inplace=True)"
      ],
      "metadata": {
        "id": "hB8hZ26IDRLq"
      },
      "id": "hB8hZ26IDRLq",
      "execution_count": 384,
      "outputs": []
    },
    {
      "cell_type": "code",
      "source": [
        "#Training the model for Indian Team\n",
        "pred_India_11 = predd(India_11)"
      ],
      "metadata": {
        "colab": {
          "base_uri": "https://localhost:8080/"
        },
        "id": "0wTibmbmDavS",
        "outputId": "26206183-7bf3-47b6-fb4e-0e495fd38218"
      },
      "id": "0wTibmbmDavS",
      "execution_count": 390,
      "outputs": [
        {
          "output_type": "stream",
          "name": "stdout",
          "text": [
            "Epoch 1/10\n",
            "4/4 [==============================] - 1s 5ms/step - loss: 0.7774 - accuracy: 0.3333\n",
            "Epoch 2/10\n",
            "4/4 [==============================] - 0s 6ms/step - loss: 0.6747 - accuracy: 0.4667\n",
            "Epoch 3/10\n",
            "4/4 [==============================] - 0s 5ms/step - loss: 0.5963 - accuracy: 0.6667\n",
            "Epoch 4/10\n",
            "4/4 [==============================] - 0s 4ms/step - loss: 0.5234 - accuracy: 0.9333\n",
            "Epoch 5/10\n",
            "4/4 [==============================] - 0s 4ms/step - loss: 0.4656 - accuracy: 0.9333\n",
            "Epoch 6/10\n",
            "4/4 [==============================] - 0s 4ms/step - loss: 0.4156 - accuracy: 0.9333\n",
            "Epoch 7/10\n",
            "4/4 [==============================] - 0s 4ms/step - loss: 0.3744 - accuracy: 0.9333\n",
            "Epoch 8/10\n",
            "4/4 [==============================] - 0s 5ms/step - loss: 0.3354 - accuracy: 0.9333\n",
            "Epoch 9/10\n",
            "4/4 [==============================] - 0s 4ms/step - loss: 0.3017 - accuracy: 1.0000\n",
            "Epoch 10/10\n",
            "4/4 [==============================] - 0s 5ms/step - loss: 0.2723 - accuracy: 1.0000\n",
            "1/1 [==============================] - 0s 65ms/step\n"
          ]
        }
      ]
    },
    {
      "cell_type": "code",
      "source": [
        "#Predicted 11 for the Indian team\n",
        "print(pred_India_11[['Player', 'Predicted_Probability']].head(11))"
      ],
      "metadata": {
        "colab": {
          "base_uri": "https://localhost:8080/"
        },
        "id": "v9fPZPTiDo6B",
        "outputId": "a6ad914a-53cd-4374-d82a-900e0ddc4332"
      },
      "id": "v9fPZPTiDo6B",
      "execution_count": 392,
      "outputs": [
        {
          "output_type": "stream",
          "name": "stdout",
          "text": [
            "            Player  Predicted_Probability\n",
            "0          V Kohli               0.901063\n",
            "1          SS Iyer               0.901014\n",
            "2         KL Rahul               0.895565\n",
            "3        RG Sharma               0.876985\n",
            "5     Shubman Gill               0.814948\n",
            "11   Kuldeep Yadav               0.772601\n",
            "8        JJ Bumrah               0.763356\n",
            "4        RA Jadeja               0.744940\n",
            "13  Mohammed Siraj               0.710075\n",
            "9   Mohammed Shami               0.693964\n",
            "7         SA Yadav               0.662486\n"
          ]
        }
      ]
    },
    {
      "cell_type": "code",
      "source": [
        "Australia_player_Batsman = batting(\"https://www.espncricinfo.com/records/tournament/averages-batting-bowling-by-team/icc-cricket-world-cup-2023-24-15338?team=2\")"
      ],
      "metadata": {
        "id": "0MKUJGtrj2SR"
      },
      "id": "0MKUJGtrj2SR",
      "execution_count": 393,
      "outputs": []
    },
    {
      "cell_type": "code",
      "source": [
        "Australia_player_Batsman.drop(columns = drop_colss,inplace = True)"
      ],
      "metadata": {
        "id": "mOmU72h5pD0P"
      },
      "id": "mOmU72h5pD0P",
      "execution_count": 394,
      "outputs": []
    },
    {
      "cell_type": "code",
      "source": [
        "Australia_player_Batsman.replace('-', 0, inplace=True)"
      ],
      "metadata": {
        "id": "e6oy5xt9pQ0c"
      },
      "id": "e6oy5xt9pQ0c",
      "execution_count": 396,
      "outputs": []
    },
    {
      "cell_type": "code",
      "source": [
        "Australia_player_Bowler = pd.read_html(\"https://www.espncricinfo.com/records/tournament/averages-batting-bowling-by-team/icc-cricket-world-cup-2023-24-15338?team=2\")\n",
        "Australia_player_Bowler = Australia_player_Bowler[1]"
      ],
      "metadata": {
        "id": "QN9zOqXXpl7n"
      },
      "id": "QN9zOqXXpl7n",
      "execution_count": 397,
      "outputs": []
    },
    {
      "cell_type": "code",
      "source": [
        "Australia_player_Bowler.drop(columns = dropss,inplace = True)"
      ],
      "metadata": {
        "id": "gibOqEXVUunH"
      },
      "id": "gibOqEXVUunH",
      "execution_count": 399,
      "outputs": []
    },
    {
      "cell_type": "code",
      "source": [
        "Australia_player_Bowler.replace('-',0,inplace = True)"
      ],
      "metadata": {
        "id": "xnIvpNhTTpH_"
      },
      "id": "xnIvpNhTTpH_",
      "execution_count": 400,
      "outputs": []
    },
    {
      "cell_type": "code",
      "source": [
        "Australia_11 = pd.merge(Australia_player_Batsman, Australia_player_Bowler, on='Player', how='outer')"
      ],
      "metadata": {
        "id": "eaTgEb4YmKDH"
      },
      "id": "eaTgEb4YmKDH",
      "execution_count": 401,
      "outputs": []
    },
    {
      "cell_type": "code",
      "source": [
        "convert_columns_to_numeric(Australia_11)"
      ],
      "metadata": {
        "id": "W1yxX-EmAyes"
      },
      "id": "W1yxX-EmAyes",
      "execution_count": 403,
      "outputs": []
    },
    {
      "cell_type": "code",
      "source": [
        "Australia_11.to_csv(\"Australia_11.csv\")"
      ],
      "metadata": {
        "id": "KNSiBJX31dZg"
      },
      "id": "KNSiBJX31dZg",
      "execution_count": 405,
      "outputs": []
    },
    {
      "cell_type": "code",
      "source": [
        "#We have added one more feature manually that which player played last match\n",
        "Australia_11 = pd.read_csv(\"/content/Australia_11.csv\")"
      ],
      "metadata": {
        "id": "JuBkPNMh14Xn"
      },
      "id": "JuBkPNMh14Xn",
      "execution_count": 406,
      "outputs": []
    },
    {
      "cell_type": "code",
      "source": [
        "Australia_11.drop(columns = 'Unnamed: 0',inplace=True)"
      ],
      "metadata": {
        "id": "bFg1eyNA7j-_"
      },
      "id": "bFg1eyNA7j-_",
      "execution_count": 407,
      "outputs": []
    },
    {
      "cell_type": "code",
      "source": [
        "#Training the model for Australian Team\n",
        "pred_Australia_11 = pred(Australia_11)"
      ],
      "metadata": {
        "colab": {
          "base_uri": "https://localhost:8080/"
        },
        "id": "dPBtxrpW8Sk3",
        "outputId": "6a15fda2-1ad1-4fb1-e1c8-8f960a0511e9"
      },
      "id": "dPBtxrpW8Sk3",
      "execution_count": 408,
      "outputs": [
        {
          "output_type": "stream",
          "name": "stdout",
          "text": [
            "Epoch 1/10\n",
            "1/1 [==============================] - 1s 1s/step - loss: 0.4999 - accuracy: 0.8667\n",
            "Epoch 2/10\n",
            "1/1 [==============================] - 0s 14ms/step - loss: 0.4734 - accuracy: 0.9333\n",
            "Epoch 3/10\n",
            "1/1 [==============================] - 0s 13ms/step - loss: 0.4485 - accuracy: 0.9333\n",
            "Epoch 4/10\n",
            "1/1 [==============================] - 0s 11ms/step - loss: 0.4244 - accuracy: 0.9333\n",
            "Epoch 5/10\n",
            "1/1 [==============================] - 0s 10ms/step - loss: 0.4016 - accuracy: 0.9333\n",
            "Epoch 6/10\n",
            "1/1 [==============================] - 0s 13ms/step - loss: 0.3796 - accuracy: 1.0000\n",
            "Epoch 7/10\n",
            "1/1 [==============================] - 0s 16ms/step - loss: 0.3588 - accuracy: 1.0000\n",
            "Epoch 8/10\n",
            "1/1 [==============================] - 0s 12ms/step - loss: 0.3393 - accuracy: 1.0000\n",
            "Epoch 9/10\n",
            "1/1 [==============================] - 0s 13ms/step - loss: 0.3207 - accuracy: 1.0000\n",
            "Epoch 10/10\n",
            "1/1 [==============================] - 0s 12ms/step - loss: 0.3035 - accuracy: 1.0000\n",
            "1/1 [==============================] - 0s 59ms/step\n"
          ]
        }
      ]
    },
    {
      "cell_type": "code",
      "source": [
        "#Predicted 11 for the Australian team\n",
        "print(pred_Australia_11[['Player']].head(11))"
      ],
      "metadata": {
        "colab": {
          "base_uri": "https://localhost:8080/"
        },
        "id": "ZLX8_8gr-1Dq",
        "outputId": "ad77364d-71f7-4186-8f04-1595e954e577"
      },
      "id": "ZLX8_8gr-1Dq",
      "execution_count": 409,
      "outputs": [
        {
          "output_type": "stream",
          "name": "stdout",
          "text": [
            "           Player\n",
            "2       DA Warner\n",
            "0      GJ Maxwell\n",
            "1        MR Marsh\n",
            "3       SPD Smith\n",
            "4   M Labuschagne\n",
            "10        A Zampa\n",
            "6      PJ Cummins\n",
            "9       JP Inglis\n",
            "12   JR Hazlewood\n",
            "11       MA Starc\n",
            "5         TM Head\n"
          ]
        }
      ]
    }
  ],
  "metadata": {
    "colab": {
      "provenance": []
    },
    "kernelspec": {
      "display_name": "Python 3 (ipykernel)",
      "language": "python",
      "name": "python3"
    },
    "language_info": {
      "codemirror_mode": {
        "name": "ipython",
        "version": 3
      },
      "file_extension": ".py",
      "mimetype": "text/x-python",
      "name": "python",
      "nbconvert_exporter": "python",
      "pygments_lexer": "ipython3",
      "version": "3.11.4"
    }
  },
  "nbformat": 4,
  "nbformat_minor": 5
}